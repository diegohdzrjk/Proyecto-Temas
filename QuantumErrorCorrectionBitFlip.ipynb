{
 "cells": [
  {
   "cell_type": "code",
   "execution_count": 1,
   "metadata": {
    "collapsed": true
   },
   "outputs": [],
   "source": [
    "using PyPlot"
   ]
  },
  {
   "cell_type": "code",
   "execution_count": 2,
   "metadata": {
    "collapsed": false,
    "scrolled": true
   },
   "outputs": [
    {
     "data": {
      "text/plain": [
       "16-element Array{Symbol,1}:\n",
       " :P_Orthogonal  \n",
       " :P_Unitary     \n",
       " :apply_ising!  \n",
       " :apply_kick!   \n",
       " :apply_unitary!\n",
       " :base_state    \n",
       " :projector     \n",
       " :quantum       \n",
       " :random_state  \n",
       " :sigma_x       \n",
       " :sigma_y       \n",
       " :sigma_z       \n",
       " :sigmas        \n",
       " :staircase     \n",
       " :testbit       \n",
       " :unfolding     "
      ]
     },
     "execution_count": 2,
     "metadata": {},
     "output_type": "execute_result"
    }
   ],
   "source": [
    "push!(LOAD_PATH, \".\");\n",
    "using quantum\n",
    "names(quantum)"
   ]
  },
  {
   "cell_type": "code",
   "execution_count": 3,
   "metadata": {
    "collapsed": false
   },
   "outputs": [
    {
     "data": {
      "text/plain": [
       "concat_ancilla (generic function with 2 methods)"
      ]
     },
     "execution_count": 3,
     "metadata": {},
     "output_type": "execute_result"
    }
   ],
   "source": [
    "function concat_ancilla(psi, n=2)\n",
    "    dim = length(psi)\n",
    "    psi_anc = zeros(Complex{Float64}, dim*2*n)\n",
    "    psi_anc[1:dim] = psi\n",
    "    return psi_anc\n",
    "end"
   ]
  },
  {
   "cell_type": "code",
   "execution_count": 77,
   "metadata": {
    "collapsed": false
   },
   "outputs": [
    {
     "data": {
      "text/plain": [
       "apply_toffoli! (generic function with 1 method)"
      ]
     },
     "execution_count": 77,
     "metadata": {},
     "output_type": "execute_result"
    }
   ],
   "source": [
    "function apply_control_not!(psi, control_qubit, target_qubit)\n",
    "    psi_i_temp = copy(psi)\n",
    "    mov = max(control_qubit,target_qubit)\n",
    "    for i = 0:length(psi)-1\n",
    "        if testbit(i,control_qubit) & !testbit(i,target_qubit)\n",
    "            psi[i+1] = psi_i_temp[i+1+2^mov]\n",
    "        elseif testbit(i,control_qubit) & testbit(i,target_qubit)\n",
    "            psi[i+1] = psi_i_temp[i+1-2^mov]\n",
    "        end\n",
    "    end\n",
    "end\n",
    "\n",
    "function apply_toffoli!(psi, control_qubit1, control_qubit2, target_qubit)\n",
    "    psi_i_temp = copy(psi)\n",
    "    mov = target_qubit\n",
    "    for i = 0:length(psi)-1\n",
    "        if testbit(i,control_qubit1) & testbit(i,control_qubit2) & !testbit(i,target_qubit)\n",
    "            psi[i+1] = psi_i_temp[i+1+2^mov]\n",
    "        elseif testbit(i,control_qubit1) & testbit(i,control_qubit2) & testbit(i,target_qubit)\n",
    "            psi[i+1] = psi_i_temp[i+1-2^mov]\n",
    "        end\n",
    "    end\n",
    "end"
   ]
  },
  {
   "cell_type": "code",
   "execution_count": 78,
   "metadata": {
    "collapsed": false
   },
   "outputs": [
    {
     "data": {
      "text/plain": [
       "encoder (generic function with 1 method)"
      ]
     },
     "execution_count": 78,
     "metadata": {},
     "output_type": "execute_result"
    }
   ],
   "source": [
    "function encoder(psi)\n",
    "    psi_encode = concat_ancilla(psi, 2)\n",
    "    apply_control_not!(psi_encode, 0, 1)\n",
    "    apply_control_not!(psi_encode, 0, 2)\n",
    "    return psi_encode\n",
    "end"
   ]
  },
  {
   "cell_type": "code",
   "execution_count": 6,
   "metadata": {
    "collapsed": false
   },
   "outputs": [
    {
     "data": {
      "text/plain": [
       "error_generator (generic function with 1 method)"
      ]
     },
     "execution_count": 6,
     "metadata": {},
     "output_type": "execute_result"
    }
   ],
   "source": [
    "function error_generator(Err, psi, p, n)\n",
    "    psi_err = copy(psi)\n",
    "    for i=0:n-1\n",
    "        if rand()< p\n",
    "            apply_unitary!(psi_err, Err, n-1-i)\n",
    "        end\n",
    "    end\n",
    "    return psi_err\n",
    "end"
   ]
  },
  {
   "cell_type": "code",
   "execution_count": 7,
   "metadata": {
    "collapsed": false
   },
   "outputs": [
    {
     "data": {
      "text/plain": [
       "partial_trace_pure_bipartite_mat (generic function with 1 method)"
      ]
     },
     "execution_count": 7,
     "metadata": {},
     "output_type": "execute_result"
    }
   ],
   "source": [
    "function partial_trace_pure_bipartite_mat(state, dim, system)\n",
    "    dimtotal = length(state)[1]\n",
    "    dimcomp = Int(dimtotal/dim)\n",
    "    psi = reshape(state,(dimcomp,dim))'\n",
    "    if system==1\n",
    "        psi=conj(psi)\n",
    "        return psi*psi'\n",
    "    elseif system==2\n",
    "        return psi'*psi\n",
    "    end\n",
    "end"
   ]
  },
  {
   "cell_type": "code",
   "execution_count": 224,
   "metadata": {
    "collapsed": false
   },
   "outputs": [
    {
     "data": {
      "text/plain": [
       "error_correction_mesurement! (generic function with 1 method)"
      ]
     },
     "execution_count": 224,
     "metadata": {},
     "output_type": "execute_result"
    }
   ],
   "source": [
    "function error_correction_mesurement!(psi)\n",
    "    psi_anc = concat_ancilla(psi, 2)\n",
    "    \n",
    "    apply_control_not!(psi_anc, 0, 4)\n",
    "    apply_control_not!(psi_anc, 2, 4)\n",
    "    apply_control_not!(psi_anc, 0, 3)\n",
    "    apply_control_not!(psi_anc, 1, 3)\n",
    "    \n",
    "    ancilla = partial_trace_pure_bipartite_mat(psi_anc, 4, 1)\n",
    "    \n",
    "    for i in 1:4\n",
    "        if abs(ancilla[i,i] - 1.0) < 1e-6\n",
    "            if i == 2\n",
    "                apply_unitary!(psi, sigma_x, 1)\n",
    "            elseif i == 3\n",
    "                apply_unitary!(psi, sigma_x, 2)\n",
    "            elseif i == 4\n",
    "                apply_unitary!(psi, sigma_x, 0)\n",
    "            end\n",
    "        end\n",
    "    end\n",
    "    \n",
    "    return psi\n",
    "end"
   ]
  },
  {
   "cell_type": "code",
   "execution_count": 225,
   "metadata": {
    "collapsed": false
   },
   "outputs": [
    {
     "data": {
      "text/plain": [
       "count_coincidence_error_correction (generic function with 4 methods)"
      ]
     },
     "execution_count": 225,
     "metadata": {},
     "output_type": "execute_result"
    }
   ],
   "source": [
    "function count_coincidence_error_correction(p::Array{Float64,1}, case::AbstractString, N=10000)\n",
    "    coincidences = zeros(length(p))\n",
    "    n = 1\n",
    "    for j in 1:length(p)\n",
    "        for i=1:N\n",
    "            psi = random_state(2^n)\n",
    "            if case == \"correction\"\n",
    "                psi_enc = encoder(psi)\n",
    "                psi_enc_err = error_generator(sigma_x, psi_enc, p[j], n+2)\n",
    "                psi_enc_corrected = error_correction_mesurement!(psi_enc_err)\n",
    "                \n",
    "                if psi_enc == psi_enc_corrected\n",
    "                    coincidences[j] += 1.\n",
    "                end\n",
    "            elseif case == \"encoded\"\n",
    "                psi_enc = encoder(psi)\n",
    "                psi_enc_err = error_generator(sigma_x, psi_enc, p[j], n+2)\n",
    "                if psi_enc == psi_enc_err\n",
    "                    coincidences[j] += 1.\n",
    "                end\n",
    "            elseif case == \"no_encoded\"\n",
    "                psi_err = error_generator(sigma_x, psi, p[j], n)\n",
    "                if psi == psi_err\n",
    "                    coincidences[j] += 1.\n",
    "                end\n",
    "            end\n",
    "        end\n",
    "    end\n",
    "    return coincidences/N\n",
    "end"
   ]
  },
  {
   "cell_type": "code",
   "execution_count": 229,
   "metadata": {
    "collapsed": false
   },
   "outputs": [],
   "source": [
    "p = collect(0:0.01:1);\n",
    "coincidencias_qec = count_coincidence_error_correction(p, \"correction\");\n",
    "coincidencias_enc_e = count_coincidence_error_correction(p, \"encoded\");\n",
    "coincidencias_e = count_coincidence_error_correction(p, \"no_encoded\");"
   ]
  },
  {
   "cell_type": "code",
   "execution_count": 232,
   "metadata": {
    "collapsed": false
   },
   "outputs": [
    {
     "data": {
      "image/png": "[encoded data removed]",
      "text/plain": [
       "PyPlot.Figure(PyObject <matplotlib.figure.Figure object at 0x31d3b8f50>)"
      ]
     },
     "metadata": {},
     "output_type": "display_data"
    },
    {
     "data": {
      "text/plain": [
       "(0,1)"
      ]
     },
     "execution_count": 232,
     "metadata": {},
     "output_type": "execute_result"
    }
   ],
   "source": [
    "scatter(p, coincidencias_qec, c = \"red\")\n",
    "scatter(p, coincidencias_enc_e, c = \"green\")\n",
    "scatter(p, coincidencias_e, c = \"blue\")\n",
    "xlim([0,1]); ylim([0,1])"
   ]
  },
  {
   "cell_type": "code",
   "execution_count": null,
   "metadata": {
    "collapsed": true
   },
   "outputs": [],
   "source": []
  }
 ],
 "metadata": {
  "kernelspec": {
   "display_name": "Julia 0.4.6",
   "language": "julia",
   "name": "julia-0.4"
  },
  "language_info": {
   "file_extension": ".jl",
   "mimetype": "application/julia",
   "name": "julia",
   "version": "0.4.6"
  }
 },
 "nbformat": 4,
 "nbformat_minor": 0
}
