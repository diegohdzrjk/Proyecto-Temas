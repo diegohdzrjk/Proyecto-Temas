{
 "cells": [
  {
   "cell_type": "code",
   "execution_count": 1,
   "metadata": {
    "collapsed": false
   },
   "outputs": [],
   "source": [
    "using PyPlot"
   ]
  },
  {
   "cell_type": "code",
   "execution_count": 2,
   "metadata": {
    "collapsed": false,
    "scrolled": true
   },
   "outputs": [
    {
     "data": {
      "text/plain": [
       "16-element Array{Symbol,1}:\n",
       " :P_Orthogonal  \n",
       " :P_Unitary     \n",
       " :apply_ising!  \n",
       " :apply_kick!   \n",
       " :apply_unitary!\n",
       " :base_state    \n",
       " :projector     \n",
       " :quantum       \n",
       " :random_state  \n",
       " :sigma_x       \n",
       " :sigma_y       \n",
       " :sigma_z       \n",
       " :sigmas        \n",
       " :staircase     \n",
       " :testbit       \n",
       " :unfolding     "
      ]
     },
     "execution_count": 2,
     "metadata": {},
     "output_type": "execute_result"
    }
   ],
   "source": [
    "push!(LOAD_PATH, \".\");\n",
    "using quantum\n",
    "names(quantum)"
   ]
  },
  {
   "cell_type": "code",
   "execution_count": 3,
   "metadata": {
    "collapsed": false
   },
   "outputs": [
    {
     "data": {
      "text/plain": [
       "concat_ancilla (generic function with 1 method)"
      ]
     },
     "execution_count": 3,
     "metadata": {},
     "output_type": "execute_result"
    }
   ],
   "source": [
    "function concat_ancilla(psi::Array{Complex{Float64},2}, n::Int64)\n",
    "    psi_anc = zeros(Complex{Float64}, 2^(n+1))\n",
    "    psi_anc[1:length(psi)] = psi\n",
    "    return psi_anc\n",
    "end"
   ]
  },
  {
   "cell_type": "code",
   "execution_count": 4,
   "metadata": {
    "collapsed": false
   },
   "outputs": [
    {
     "data": {
      "text/plain": [
       "apply_control_not! (generic function with 1 method)"
      ]
     },
     "execution_count": 4,
     "metadata": {},
     "output_type": "execute_result"
    }
   ],
   "source": [
    "function apply_control_not!(psi, control_qubit, target_qubit)\n",
    "    psi_i_temp = copy(psi)\n",
    "    mov = max(control_qubit,target_qubit)\n",
    "    for i = 0:length(psi)-1\n",
    "        if testbit(i,control_qubit) & !testbit(i,target_qubit)\n",
    "            psi[i+1] = psi_i_temp[i+1+2^mov]\n",
    "        elseif testbit(i,control_qubit) & testbit(i,target_qubit)\n",
    "            psi[i+1] = psi_i_temp[i+1-2^mov]\n",
    "        end\n",
    "    end\n",
    "end"
   ]
  },
  {
   "cell_type": "code",
   "execution_count": 49,
   "metadata": {
    "collapsed": false
   },
   "outputs": [
    {
     "data": {
      "text/plain": [
       "encoder (generic function with 1 method)"
      ]
     },
     "execution_count": 49,
     "metadata": {},
     "output_type": "execute_result"
    }
   ],
   "source": [
    "function encoder(psi, k)\n",
    "    psi_encode = concat_ancilla(psi, 3^k-1)\n",
    "    \n",
    "    apply_control_not!(psi_encode, 3*i, 3*i+1)\n",
    "    \n",
    "    \n",
    "    return psi_encode\n",
    "end"
   ]
  },
  {
   "cell_type": "code",
   "execution_count": 64,
   "metadata": {
    "collapsed": false
   },
   "outputs": [
    {
     "data": {
      "text/plain": [
       "error_generator (generic function with 1 method)"
      ]
     },
     "execution_count": 64,
     "metadata": {},
     "output_type": "execute_result"
    }
   ],
   "source": [
    "function error_generator(Err, psi, p)\n",
    "    n = Int(log2(length(psi)))\n",
    "    psi_err = copy(psi)\n",
    "    for i=0:n-1\n",
    "        if rand()< p\n",
    "            apply_unitary!(psi_err, Err, n-1-i)\n",
    "        end\n",
    "    end\n",
    "    return psi_err\n",
    "end"
   ]
  },
  {
   "cell_type": "code",
   "execution_count": 154,
   "metadata": {
    "collapsed": false
   },
   "outputs": [
    {
     "data": {
      "text/plain": [
       "partial_trace_pure_bipartite_mat (generic function with 1 method)"
      ]
     },
     "execution_count": 154,
     "metadata": {},
     "output_type": "execute_result"
    }
   ],
   "source": [
    "function partial_trace_pure_bipartite_mat(state, dim, system)\n",
    "    dimtotal = length(state)[1]\n",
    "    dimcomp = Int(dimtotal/dim)\n",
    "    psi = reshape(state,(dimcomp,dim))'\n",
    "    if system==1\n",
    "        psi=conj(psi)\n",
    "        return psi*psi'\n",
    "    elseif system==2\n",
    "        return psi'*psi\n",
    "    end\n",
    "end"
   ]
  },
  {
   "cell_type": "code",
   "execution_count": null,
   "metadata": {
    "collapsed": true
   },
   "outputs": [],
   "source": [
    "function error_correction_mesurement!(psi, k)\n",
    "    psi_anc = concat_ancilla(psi, 2*k)\n",
    "\n",
    "    apply_transversal_control_not!(psi_anc, 3^(k-1), 0, 4)\n",
    "    apply_transversal_control_not!(psi_anc, 3^(k-1), 2, 4)\n",
    "    apply_transversal_control_not!(psi_anc, 3^(k-1), 0, 3)\n",
    "    apply_transversal_control_not!(psi_anc, 3^(k-1), 1, 3)\n",
    "    \n",
    "    ancilla = partial_trace_pure_bipartite_mat(psi_anc, 2^(k+1), 1)\n",
    "    \n",
    "    for i in 1:4\n",
    "        if abs(ancilla[i,i] - 1.0) < 1e-6\n",
    "            if i == 2\n",
    "                apply_unitary!(psi, sigma_x, 1)\n",
    "            elseif i == 3\n",
    "                apply_unitary!(psi, sigma_x, 2)\n",
    "            elseif i == 4\n",
    "                apply_unitary!(psi, sigma_x, 0)\n",
    "            end\n",
    "        end\n",
    "    end\n",
    "    \n",
    "    return psi\n",
    "end"
   ]
  },
  {
   "cell_type": "code",
   "execution_count": 170,
   "metadata": {
    "collapsed": false
   },
   "outputs": [
    {
     "name": "stdout",
     "output_type": "stream",
     "text": [
      "  0.000011 seconds (9 allocations: 1.094 KB)\n"
     ]
    },
    {
     "data": {
      "text/plain": [
       "8-element Array{Complex{Float64},1}:\n",
       " 0.389378-0.356615im\n",
       "      0.0+0.0im     \n",
       "      0.0+0.0im     \n",
       "      0.0+0.0im     \n",
       "      0.0+0.0im     \n",
       "      0.0+0.0im     \n",
       "      0.0+0.0im     \n",
       " 0.393267+0.752696im"
      ]
     },
     "execution_count": 170,
     "metadata": {},
     "output_type": "execute_result"
    }
   ],
   "source": [
    "psi = random_state(2)\n",
    "@time psi = encoder(psi,1)"
   ]
  },
  {
   "cell_type": "code",
   "execution_count": 176,
   "metadata": {
    "collapsed": false
   },
   "outputs": [
    {
     "name": "stdout",
     "output_type": "stream",
     "text": [
      "  0.000010 seconds (25 allocations: 1.406 KB)\n"
     ]
    },
    {
     "data": {
      "text/plain": [
       "8-element Array{Complex{Float64},1}:\n",
       "      0.0+0.0im     \n",
       " 0.389378-0.356615im\n",
       "      0.0+0.0im     \n",
       "      0.0+0.0im     \n",
       "      0.0+0.0im     \n",
       "      0.0+0.0im     \n",
       " 0.393267+0.752696im\n",
       "      0.0+0.0im     "
      ]
     },
     "execution_count": 176,
     "metadata": {},
     "output_type": "execute_result"
    }
   ],
   "source": [
    "@time error_generator(sigma_x, psi, 0.1)"
   ]
  },
  {
   "cell_type": "code",
   "execution_count": null,
   "metadata": {
    "collapsed": true
   },
   "outputs": [],
   "source": []
  }
 ],
 "metadata": {
  "kernelspec": {
   "display_name": "Julia 0.4.6",
   "language": "julia",
   "name": "julia-0.4"
  },
  "language_info": {
   "file_extension": ".jl",
   "mimetype": "application/julia",
   "name": "julia",
   "version": "0.4.6"
  }
 },
 "nbformat": 4,
 "nbformat_minor": 0
}
