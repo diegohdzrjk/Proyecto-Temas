{
 "cells": [
  {
   "cell_type": "markdown",
   "metadata": {},
   "source": [
    "# Sistemas compuestos "
   ]
  },
  {
   "cell_type": "markdown",
   "metadata": {},
   "source": [
    "## El espacio tensorial\n",
    "Sea $A+B$ un sistema bipartito, y $\\mathcal{H}=\\mathcal{H}_A\\otimes\\mathcal{H}_B$ el espacio de Hilbert asociado al mismo. Consideremos una base en cada uno de los espacios\n",
    "\\begin{equation}\n",
    "\\{|i\\rangle_{(A,B)} \\}.\n",
    "\\end{equation}\n",
    "Por ejemplo, si tenemos dos qubits, el $A$ y el $B$, las dos bases en cuestion serían\n",
    "\\begin{equation}\n",
    "\\{|0\\rangle_A,|1\\rangle_A \\}\n",
    "\\end{equation}\n",
    "y\n",
    "\\begin{equation}\n",
    "\\{|0\\rangle_B,|1\\rangle_B \\}.\n",
    "\\end{equation}\n",
    "Los elementos del espacio producto serán combinaciones lineales de \n",
    "\\begin{equation}\n",
    "|i j\\rangle\\equiv |i\\rangle_{(A)}\\otimes|j\\rangle_{(B)}.\n",
    "\\end{equation}\n",
    "Es decir, cualquier estado se puede escribir como \n",
    "\\begin{equation}\n",
    "|\\psi \\rangle = \\sum_{i,j}\\psi_{ij}|ij\\rangle.\n",
    "\\end{equation}\n",
    "Por ejemplo, para un sistema de dos qubits, podemos escribir que el estado más general es \n",
    "\\begin{equation}\n",
    "|\\psi \\rangle = \n",
    "\\psi_{00}|0\\rangle_{(A)}|0\\rangle_{(B)}+\n",
    "\\psi_{01}|0\\rangle_{(A)}|1\\rangle_{(B)}+\n",
    "\\psi_{10}|1\\rangle_{(A)}|0\\rangle_{(B)}+\n",
    "\\psi_{11}|1\\rangle_{(A)}|1\\rangle_{(B)}\n",
    "=\n",
    "\\psi_{00}|00\\rangle+\n",
    "\\psi_{01}|01\\rangle+\n",
    "\\psi_{10}|10\\rangle+\n",
    "\\psi_{11}|11\\rangle.\n",
    "\\end{equation}"
   ]
  },
  {
   "cell_type": "markdown",
   "metadata": {},
   "source": [
    "## Producto punto\n",
    "\n",
    "El producto punto se _define_ sobre estados producto de la siguiente manera:\n",
    "$$\n",
    "(\\langle\\psi_1|\\otimes\\langle \\phi_1|)(|\\psi_2\\rangle\\otimes|\\phi_2\\rangle)\\equiv\n",
    "\\langle\\psi_1|\\psi_2\\rangle \\langle \\phi_1|\\phi_2\\rangle.\n",
    "$$\n",
    "A estados que no sean de la forma producto, se usan la linealidad (o antilinealidad) del producto para simplificarlo y poder aplicar la formula de arriba."
   ]
  },
  {
   "cell_type": "markdown",
   "metadata": {},
   "source": [
    "## Estados separables y enlazados\n",
    "\n",
    "No todos los estados en el espacio producto son producto de estados. Consideremos por ejemplo el estado\n",
    "$$\n",
    "|\\text{Bell}\\rangle\n",
    "= \\frac{|00\\rangle+|11\\rangle}{\\sqrt{2}}.\n",
    "$$\n",
    "Dicho estado no es el resultado de un producto. Para comprobarlo, veamos que\n",
    "\\begin{align}\n",
    "|\\text{Bell}\\rangle &\\ne\n",
    "(\\alpha_0|0\\rangle_A +\\alpha_1|1\\rangle_A)\\otimes\n",
    "(\\beta_0|0\\rangle_B +\\beta_1|1\\rangle_B)\\\\\n",
    "&=\n",
    "\\alpha_0\\beta_0|00\\rangle+\n",
    "\\alpha_0\\beta_1|01\\rangle+\n",
    "\\alpha_1\\beta_0|10\\rangle+\n",
    "\\alpha_1\\beta_1|11\\rangle.\n",
    "\\end{align}\n",
    "Para poder ver que es asi, vamos a igualar los coeficientes a lado y lado de la ecuación. Esto quiere decir que \n",
    "\\begin{equation}\n",
    "\\alpha_0\\beta_0 = \\frac{1}{\\sqrt{2}},\\quad\n",
    "\\alpha_0\\beta_1 = 0,\\quad\n",
    "\\alpha_1\\beta_0 = 0,\\quad\n",
    "\\alpha_1\\beta_1 = \\frac{1}{\\sqrt{2}}.\n",
    "\\end{equation}\n",
    "Ahora, para la segunda linea requerimos que $\\alpha_0=0$ (pero eso impliciaria que $\\alpha_0\\beta_0$) o que \n",
    "$\\beta_1=0$, pero eso implicaria que $\\alpha_1\\beta_1$.\n",
    "\n",
    "Definimos los estados _separables_ como aquellos que tienen la forma \n",
    "$$\n",
    " |\\psi\\rangle_A\\otimes |\\phi\\rangle_B\n",
    "$$\n",
    "y definiremos como estados _enlazados_ aquellos que no son separables.\n",
    "\n",
    "Los estados enlazados son muy diferentes a los estados clásicos y tienen correlaciones que no podemos explicar clásicamente. Su estudio es toda un área en información cuántica. "
   ]
  },
  {
   "cell_type": "markdown",
   "metadata": {},
   "source": [
    "# Teleportación\n",
    "\n",
    "Como una aplicacion de sistemas compuestos, vamos a estudiar teleportacion. \n",
    "\n",
    "## Esquema general\n",
    "![](teleportation_scheme.png)\n",
    "\n",
    "* Todo es información. Lo que nos diferencia de una silla es la forma como están organizados los átomos. \n",
    "* Queremos teleportar un estado cuántico.  \n",
    "\n",
    "## El problema\n",
    "* Alice y Bob comparten un par de Bell, y aunque el estado no puede describirse en forma local, cada uno de los constituyentes puede estar en sitios diferentes. \n",
    "* Alice además posee un estado que desea transmitir. \n",
    "* Este estado es, en general, desconocido. \n",
    "\n",
    "## Las operaciones\n",
    "* Se hace un CNOT del qubit desconocido al qubit que Alice posee. \n",
    "* Se hace un Hadamard al qubit desconocido\n",
    "* Se hace una medición a los qubits que tiene Alice. El resultado del que qubit desconocido lo llamamos $k_0$ y el que originalmente componía le par de Bell lo llamamos $k_1$. \n",
    "* Alice envía por teléfono el resultado a Bob. Si  Bob recibe $(k_0, k_1)=(0, 0 )$, no hace nada. Si recibe $(0,1)$ hace un $\\sigma_z$ en el qubit, si recibe $(1, 0)$ hace un $\\sigma_x$ y si recibe un $(1, 1)$ hace un $\\sigma_y$."
   ]
  },
  {
   "cell_type": "markdown",
   "metadata": {},
   "source": [
    "## Formalismo y prueba\n",
    "Para ser más precisos, supongamos que partimos el espacio\n",
    "\\begin{equation}\n",
    "\\mathcal{H}_q \\otimes \\mathcal{H}_A \\otimes \\mathcal{H}_B\n",
    "\\end{equation}\n",
    "donde $\\mathcal{H}_q$ denota el espacio de Hilbert del qubit que deseamos teleportar, $\\mathcal{H}_A$ es el espacio de Hilbert de Alice, que es la persona que va a hacer el envío y $\\mathcal{H}_B$ es el espacio de Hilbert de Bob, quien recibirá el qubit. \n",
    "\n",
    "Vamos a suponer que el qubit desconocido está en el estado\n",
    "\\begin{equation}\n",
    "|\\psi\\rangle = \\alpha |0\\rangle + \\beta |1\\rangle.\n",
    "\\end{equation}\n",
    "El estado de los otros dos qubits es un par de Bell, esto es\n",
    "\\begin{equation}\n",
    "|\\psi\\rangle_{AB} = \\frac{1}{\\sqrt{2}}( |00\\rangle + |11\\rangle).\n",
    "\\end{equation}\n",
    "por lo que el estado inicial será\n",
    "\\begin{align*}\n",
    "|\\psi_0\\rangle =  \\frac{1}{\\sqrt{2}}(\\alpha |0\\rangle + \\beta |1\\rangle)(|00\\rangle + |11\\rangle)\n",
    "= \\frac{1}{\\sqrt{2}}(\\alpha |000\\rangle + \\alpha |011\\rangle + \\beta |100\\rangle + \\beta |111\\rangle).\n",
    "\\end{align*}\n",
    "Después de eso, tendremos que tenemos que hacer un _control not_ (CN). El CN es una operación unitaria que hace un NOT si el qubit de control está encendido. Esto es, va a tener el efecto\n",
    "\\begin{align*}\n",
    "U_{CN}|00\\rangle &= |00\\rangle  \\\\\n",
    "U_{CN}|01\\rangle &= |01\\rangle \\\\\n",
    "U_{CN}|10\\rangle &= |11\\rangle \\\\\n",
    "U_{CN}|11\\rangle &= |01\\rangle\n",
    "\\end{align*}\n",
    "donde el qubit de control es el primero y el target qubit es el segundo. \n",
    "\n",
    "Entonces, el efecto sobre el estado sera \n",
    "\\begin{equation}\n",
    "|\\psi_1\\rangle = U_{CN}^{qA} |\\psi_0\\rangle = \n",
    "\\frac{1}{\\sqrt{2}}(\\alpha |000\\rangle + \\alpha |011\\rangle + \\beta |110\\rangle + \\beta |101\\rangle).\n",
    "\\end{equation}\n",
    "Después hacemos el Hadamard gate, que transforma:\n",
    "\\begin{align}\n",
    "H|0\\rangle &= \\frac{1}{\\sqrt{2}} (|0\\rangle + |1\\rangle )\\\\\n",
    "H|1\\rangle &= \\frac{1}{\\sqrt{2}} (|0\\rangle - |1\\rangle ).\n",
    "\\end{align}\n",
    "Entonces, el efecto sobre el estado en cuestión será \n",
    "\\begin{align}\n",
    "|\\psi_2\\rangle & =\\frac12(\n",
    "\\alpha|000\\rangle  + \\alpha|100\\rangle +  \\alpha|011\\rangle  + \\alpha|111\\rangle  + \\beta|010\\rangle  - \\beta|110\\rangle  + \\beta|001\\rangle -\\beta|101\\rangle) \\\\\n",
    "&=\\frac12(\n",
    "|00\\rangle(\\alpha|0\\rangle + \\beta|1\\rangle) +|01\\rangle(\\alpha|1\\rangle + \\beta|0\\rangle) +|10\\rangle(\\alpha|0\\rangle - \\beta|1\\rangle) +|11\\rangle(\\alpha|1\\rangle - \\beta|0\\rangle)\n",
    ").\n",
    "\\end{align}\n",
    "De esta manera, si medimos que el estado está en $|00\\rangle$, no tenemos que hacer \n",
    "nada. \n",
    "Si obtenemos $(0,1)$, $(1,0)$, $(1,1)$ aplicamos $\\sigma_x$, $\\sigma_z$ o $\\sigma_y$, respectivamente."
   ]
  },
  {
   "cell_type": "markdown",
   "metadata": {},
   "source": [
    "### Algunas anotaciones\n",
    "\n",
    "* El estado cuantico, en un formalismo clásico, tiene infinita información pues contiene números reales. Así, transmitirlo, requeriría una cantidad infinita de bits.\n",
    "* En la teleportación, el estado original se destruye. Esto hace que no se contradiga el teorema de no clonación.\n",
    "* Pareciera que algo se transmite de manera instantanea, pero el estado al final, que tiene Bob, tiene _cero_ información, si no se conocen los resultados de la medición de Alice.\n",
    "\n",
    "### Circuito cuántico\n",
    "\n",
    "Del Nielsen & Chuang:\n",
    "![Del Nielsen & Chuang](circuito.png)"
   ]
  },
  {
   "cell_type": "markdown",
   "metadata": {},
   "source": [
    "## Construcción de librerias en julia\n",
    "\n",
    "Documentación: http://docs.julialang.org/en/release-0.5/manual/modules/\n",
    "\n",
    "* Esquema general de una libreria (modulo), digamos MyModule.jl\n",
    "\n",
    "__module MyModule__ _(nombre del modulo)_\n",
    "\n",
    "__using package1, package2__ _(Aqui llamamos los paquetes que nuestro modulo necesita para funcionar)_\n",
    "\n",
    "__export x, y__ _(las funciones que exportamos al workspace cuando llamamos al modulo)_\n",
    "\n",
    "__x() = \"x\"__\n",
    "\n",
    "__y() = \"y\"__\n",
    "\n",
    "__p() = \"p\"__ _(Nótese que la funcion p() no esta exportada, podemos definir funciones de uso interno, esta no aparcera en el workspace con el comando \"using MyModule\", sin embargo será accesible con \"import MyModule\")_\n",
    "\n",
    "__end__"
   ]
  },
  {
   "cell_type": "markdown",
   "metadata": {},
   "source": [
    "## Nuestra libreria"
   ]
  },
  {
   "cell_type": "code",
   "execution_count": 1,
   "metadata": {
    "collapsed": false
   },
   "outputs": [
    {
     "name": "stderr",
     "output_type": "stream",
     "text": [
      "WARNING: [a,b,...] concatenation is deprecated; use [a;b;...] instead\n",
      " in depwarn at deprecated.jl:73\n",
      " in oldstyle_vcat_warning at /Applications/Julia-0.4.6.app/Contents/Resources/julia/lib/julia/sys.dylib\n",
      " in vect at abstractarray.jl:32\n",
      " in include_string at loading.jl:282\n",
      " in execute_request at /Users/diego/.julia/v0.4/IJulia/src/execute_request.jl:164\n",
      " in eventloop at /Users/diego/.julia/v0.4/IJulia/src/IJulia.jl:138\n",
      " in anonymous at task.jl:447\n",
      "while loading In[1], in expression starting on line 20\n"
     ]
    },
    {
     "data": {
      "text/plain": [
       "quantum"
      ]
     },
     "execution_count": 1,
     "metadata": {},
     "output_type": "execute_result"
    }
   ],
   "source": [
    "__precompile__() # Este comando es para que julia precompile el paquete\n",
    "\n",
    "module quantum\n",
    "\n",
    "export random_state, projector, sigma_x, sigma_y, sigma_z, sigmas\n",
    "\n",
    "function random_state(dim=2::Int)\n",
    "    v=randn(1,dim)+randn(1,dim)im\n",
    "    v=v/norm(v)\n",
    "    return v'\n",
    "end\n",
    "\n",
    "function projector(state)\n",
    "    return state*state'\n",
    "end\n",
    "\n",
    "sigma_x=[0. 1.; 1. 0.]\n",
    "sigma_y=[0. -im; im 0]\n",
    "sigma_z=[1. 0.;0. -1.]\n",
    "sigmas=[sigma_x, sigma_y, sigma_z]\n",
    "\n",
    "end"
   ]
  },
  {
   "cell_type": "markdown",
   "metadata": {},
   "source": [
    "La idea ahora es tener esto disponible en otras sesiones de Julia.\n",
    "\n",
    "### Ejercicio\n",
    "\n",
    "* Crear el archivo _quantum.jl_ con el codigo de arriba, dentro de una estructura de archivos de la siguiente forma: _\"quantum/src/quantum.jl\"_\n",
    "\n",
    "Para usar el comando __using__, Julia busca paquetes dentro de los directorios del archivo __LOAD\\_PATH__ :"
   ]
  },
  {
   "cell_type": "code",
   "execution_count": 2,
   "metadata": {
    "collapsed": false
   },
   "outputs": [
    {
     "data": {
      "text/plain": [
       "2-element Array{ByteString,1}:\n",
       " \"/Applications/Julia-0.4.6.app/Contents/Resources/julia/local/share/julia/site/v0.4\"\n",
       " \"/Applications/Julia-0.4.6.app/Contents/Resources/julia/share/julia/site/v0.4\"      "
      ]
     },
     "execution_count": 2,
     "metadata": {},
     "output_type": "execute_result"
    }
   ],
   "source": [
    "LOAD_PATH"
   ]
  },
  {
   "cell_type": "markdown",
   "metadata": {},
   "source": [
    "Para que Julia pueda encontrar nuestro nuevo paquete tenemos que incluir la direccion del mismo en ese archivo."
   ]
  },
  {
   "cell_type": "code",
   "execution_count": 3,
   "metadata": {
    "collapsed": false
   },
   "outputs": [
    {
     "data": {
      "text/plain": [
       "\"/Users/diego/Documents/Proyecto-Temas\""
      ]
     },
     "execution_count": 3,
     "metadata": {},
     "output_type": "execute_result"
    }
   ],
   "source": [
    "pwd() # Con este comando podemos ver la ruta de este notebook"
   ]
  },
  {
   "cell_type": "code",
   "execution_count": 4,
   "metadata": {
    "collapsed": false
   },
   "outputs": [
    {
     "data": {
      "text/plain": [
       "3-element Array{ByteString,1}:\n",
       " \"/Applications/Julia-0.4.6.app/Contents/Resources/julia/local/share/julia/site/v0.4\"\n",
       " \"/Applications/Julia-0.4.6.app/Contents/Resources/julia/share/julia/site/v0.4\"      \n",
       " \"/Users/diego/Documents/Temas_Computacional/2017-1_TS_Pineda/clases\"                "
      ]
     },
     "execution_count": 4,
     "metadata": {},
     "output_type": "execute_result"
    }
   ],
   "source": [
    "# En mi caso y en una computadora en particular\n",
    "push!(LOAD_PATH, \n",
    "\"/Users/diego/Documents/Temas_Computacional/2017-1_TS_Pineda/clases\")"
   ]
  },
  {
   "cell_type": "markdown",
   "metadata": {},
   "source": [
    "Este cambio puede ser permanente si editamos/creamos el archivo .juliarc.jl en nuestro _home_, añadiendo la linea de arriba."
   ]
  },
  {
   "cell_type": "markdown",
   "metadata": {},
   "source": [
    "# Matriz de densidad\n",
    "\n",
    "El concepto de matriz de densidad de densidad se usa en diversas ocasiones. \n",
    "\n",
    "Una de ellas es cuando tenemos una superosición estadístisca de varios estados. Esto quiere decir que con cierta probabilidad tenemos cierto estado. En particular, consideremos que tenemos una probabilidad $p_i$ de tener un estado $|\\psi_i\\rangle$. \n",
    "\n",
    "Cuando calculamos un observable, podemos ver que el valor esperado será la suma ponderada de cada uno de los valores\n",
    "esperados. Es decir, \n",
    "$$\n",
    "\\langle A \\rangle = \\sum_i p_i \\langle A \\rangle_i\n",
    "$$\n",
    "donde $\\langle A \\rangle_i= \\langle \\psi_i| A |\\psi_i\\rangle$. Usando la formula de la traza que habiamos desarrollado antes, podemos reescribir\n",
    "$$\n",
    "\\langle A \\rangle = \\sum_i p_i \\text{tr} \\langle \\psi_i| A |\\psi_i\\rangle.\n",
    "$$\n",
    "Usando las propiedades de linealidad de la traza, también vemos que \n",
    "$$\n",
    "\\langle A \\rangle \n",
    "=  \\text{tr} \\hspace{2 pt} A \\sum_i p_i |\\psi_i\\rangle\\langle \\psi_i|\n",
    "=  \\text{tr}  A \\rho,\n",
    "$$\n",
    "si definimos \n",
    "$$\n",
    "\\rho =  \\sum_i p_i  |\\psi_i\\rangle\\langle \\psi_i|.\n",
    "$$\n",
    "Esta es la matriz de densidad. \n",
    "\n",
    "La matriz de densidad permite introducir el concepto de ensamble en mecánica cuantica, crucial en el campo de la mecánica estadística (en este caso, $\\rho \\propto \\text{exp}(-H/kT)$. Tambien permite introducir el concepto de ignorancia, por ejemplo con respecto a una medición. Dos observadores, uno con mas información que otro, van a describir el mismo estado con diferentes objetos matemáticos. Esto nos hace reflexionar acerca de la validez o \"realidad\" de la función de onda (o de la matriz de densidad). Una cita de Peres es bastante útil en este punto:\n",
    "\n",
    "_Many physicists, perhaps a majority, have an intuitive, realistic worldview and consider a quantum state as a physical entity. Its value may not be known, but in principle the quantum state of a physical system would be well defined. However, there is no experimental evidence whatsoever to support this naive belief. On the contrary, if this view is taken seriously, it may lead to bizarre consequences,called \"quantum paradoxes.\"_ [Peres, A, and Terno, D.R. Quantum information and relativity theory. _Rev. Mod. Phys._ 76: 93-123 (2004)]\n",
    "\n",
    "Los valores esperados se calculan como se explicó arriba. Recordando que para estados puros la evolución está dada por \n",
    "$$\n",
    "|\\psi(t)\\rangle= U(t)|\\psi(0)\\rangle,\n",
    "$$\n",
    "resulta natural ahora que \n",
    "$$\n",
    "\\rho=U(t)\\rho(0)U^\\dagger(t),\n",
    "$$\n",
    "puesto que esto evolucionará cada uno los estados que la componen en forma independiente.\n",
    "\n",
    "Los postulados de medición funcionan de manera similar, es decir, en vez de proyectar \n",
    "$$\n",
    "|\\psi\\rangle \\to \\propto P_m |\\psi\\rangle\n",
    "$$\n",
    "proyectamos a \n",
    "$$\n",
    "\\rho \\to \\propto P_m\\rho P_m.\n",
    "$$\n"
   ]
  },
  {
   "cell_type": "markdown",
   "metadata": {},
   "source": [
    "### Ejercicio\n",
    "hacer algo para diferenciar una superposición estadística de una superposicion coherente. Puede ser, ver en el \n",
    "$|0\\rangle+|1\\rangle$ se comporta diferente de el resultado de la superposición estadística de $|0\\rangle$ y \n",
    "$|1\\rangle$."
   ]
  },
  {
   "cell_type": "code",
   "execution_count": 5,
   "metadata": {
    "collapsed": true
   },
   "outputs": [],
   "source": [
    "using quantum"
   ]
  },
  {
   "cell_type": "code",
   "execution_count": 6,
   "metadata": {
    "collapsed": false
   },
   "outputs": [
    {
     "data": {
      "text/plain": [
       "sampling_sigma_z (generic function with 2 methods)"
      ]
     },
     "execution_count": 6,
     "metadata": {},
     "output_type": "execute_result"
    }
   ],
   "source": [
    "proj0=projector([1,0]);\n",
    "proj1=projector([0,1]);\n",
    "\"\"\"\n",
    "Esta funcion regresa un sampling del estado (primera entrada de la funcin) del \n",
    "tamaño especificado \n",
    "en la segunda entrada de la funcion\n",
    "\"\"\"\n",
    "function sampling_sigma_z(state,measurements::Int=10)\n",
    "    p0=trace(proj0*state)\n",
    "    list=rand(measurements)\n",
    "    for i in range(1,measurements)\n",
    "        if list[i]<=real(p0)\n",
    "            list[i]=0\n",
    "        else\n",
    "            list[i]=1\n",
    "        end\n",
    "    end\n",
    "    return list\n",
    "end"
   ]
  },
  {
   "cell_type": "code",
   "execution_count": 7,
   "metadata": {
    "collapsed": true
   },
   "outputs": [],
   "source": [
    "using Plots"
   ]
  },
  {
   "cell_type": "code",
   "execution_count": 8,
   "metadata": {
    "collapsed": false
   },
   "outputs": [
    {
     "data": {
      "text/markdown": [
       "A hacky replacement for a histogram when the backend doesn't support histograms directly. Convert it into a bar chart with the appropriate x/y values.\n"
      ],
      "text/plain": [
       "A hacky replacement for a histogram when the backend doesn't support histograms directly. Convert it into a bar chart with the appropriate x/y values.\n"
      ]
     },
     "execution_count": 8,
     "metadata": {},
     "output_type": "execute_result"
    }
   ],
   "source": [
    "?Plots.histogramHack"
   ]
  },
  {
   "cell_type": "code",
   "execution_count": 9,
   "metadata": {
    "collapsed": false
   },
   "outputs": [
    {
     "name": "stdout",
     "output_type": "stream",
     "text": [
      "[Plots.jl] Initializing backend: pyplot\n"
     ]
    },
    {
     "data": {
      "text/html": [
       "<img src=\"data:image/png;base64,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\" />"
      ]
     },
     "execution_count": 9,
     "metadata": {},
     "output_type": "execute_result"
    }
   ],
   "source": [
    "statemix=(proj0+proj1)/2;\n",
    "list=sampling_sigma_z(statemix,1000);\n",
    "Plots.histogram(list)"
   ]
  },
  {
   "cell_type": "code",
   "execution_count": 10,
   "metadata": {
    "collapsed": false
   },
   "outputs": [
    {
     "data": {
      "text/html": [
       "<img src=\"data:image/png;base64,iVBORw0KGgoAAAANSUhEUgAAAlgAAAGQCAYAAAByNR6YAAAABHNCSVQICAgIfAhkiAAAAAlwSFlzAAAPYQAAD2EBqD+naQAAIABJREFUeJzt3X901vV99/FXSDpidk5RxLQWva5AIYTVUQlYjNqbg38EOae7jkIdhcowV/3BkWTl7CzUzbOFnDN2CGO2OySr293E2cGSYCnRdlPYD8tN7HSUC20tZFAkuZyjQqrDQy/6A/zefzDThlxo8vFLPnnn83ycwzn1Sgjvy+d0L8OVUBBFUSQAAADEZoLvAwAAAMYbBhYAAEDMinz9wv39/dq9e7fKysp0xRVX+DoDAADgks6ePave3l4tXrxYU6ZMGfbP8zawdu/erXvuucfXLw8AADBs27Zt0+c///lhv/8lB9a7n1kqLi5WQUGB/uiP/kh33323Tp06pd/7vd/TsWPHVFxcrJaWFn3605+WdGHlfeELX9D+/ftVWFiojRs3atmyZZf8+JKkW9PSrIXDf4YX+8lx6akN2rZtm2bPnu3+cTAi69at01e+8hXfZ8AB7Wyjn120s+nw4cO65557frVbhumSA2vChAnasWOHfvu3f3vQ4w8//LCqqqr0zDPP6Hvf+57uuusu9fb2qrCwUFu2bFFxcbGOHj2q3t5eLViwQLfffruuuuqqIR9/4LcFZy2Ubl4xoqMH6TsoPbVBs2fPVmVlpfvHwYhceeWV/P02ina20c8u2tk20pczXfJF7lEUKd93cNixY4fWrFkjSZo/f76mTp2qvXv3SpI6OzsH3lZWVqZFixZp165dIzoINvziF7/wfQIc0c42+tlFu7C852uwVq1aJUn61Kc+pU2bNqmgoEDnzp1TaWnpwPskk0lls1lJUjabVTKZzPs2jC8vvfSS7xPgiHa20c8u2oXlkp/B2rdvn15++WVlMhldffXVWr16tSTl/awWwjNr1izfJ8AR7Wyjn120C8slB9Z1110nSSosLNS6deu0b98+TZ48WUVFRTp58uTA+/X29iqRSEi68Bmrvr6+vG8bTZlMRqlUSv39/YMeb2hoUFNT06DHstmsUqmUenp6Bj2+detW1dfXD3osl8splUqpu7t70OPt7e2qqakZcsfy5cvV1dU16LE9e/YolUoNed+1a9eqtbXVzPO45ZZbxsXzGC89RvI8Fi9ePC6ex3jpMdLncebMmXHxPMZLj5E8jzNnzoyL5zFeeuR7HnV1dUokEkqlUgM/1q1bN+TW4SjI90fl5HI5/fKXv9SkSZMkSY8++qiefvppfec731E6nVYymVRDQ4P279+vpUuXDrzIvbGxUX19fWpra9Px48dVVVWlQ4cOafLkyUN+4Uwmo3nz5knpJz74i9w3LtCBAwd48SAAAIjVu3tlpDsj72uw3njjDS1btkzvvPOOoijS9OnT9fWvf12StGnTJq1atUrl5eWaOHGitm/frsLCQklSfX290um0ZsyYoaKiIrW0tOQdVwAAAONZ3oE1bdo0ZTKZvD+htLRUu3fvzvu2kpISdXR0xHcdxqzW1lZ94Qtf8H0GHNDONvrZRbuw8GcRwsmlBjjGPtrZRj+7aBcWb39UDmxraWnxfQIc0c42+tlFu9F34sQJnThx4gN9jMOHDzv9PAYWAAAYd06cOKGPfexj3n59BhYAABh3Bj5zteoxKTHX/QO98oz01IYR/zQGFgAAGL8Sc6XkBxhYJ3re/33y4EXucJLvm8TBBtrZRj+7aBcWBhac1NbW+j4BjmhnG/3sol1YGFhwUl1d7fsEOKKdbfSzi3ZhYWABAADEjIEFAAAQMwYWnFz8p6PDDtrZRj+7aBcWBhactLe3+z4BjmhnG/3sol1YGFhw0tnZ6fsEOKKdbfSzi3ZhYWABAADEjIEFAAAQMwYWAABAzBhYcFJTU+P7BDiinW30s4t2YWFgwQnfkdgu2tlGP7toFxYGFpysWLHC9wlwRDvb6GcX7cLCwAIAAIgZAwsAACBmDCw46e7u9n0CHNHONvrZRbuwMLDgZPPmzb5PgCPa2UY/u2gXFgYWnHR0dPg+AY5oZxv97KJdWBhYcFJSUuL7BDiinW30s4t2YWFgAQAAxIyBBQAAEDMGFpzU19f7PgGOaGcb/eyiXVgYWHCSSCR8nwBHtLONfnbRLiwMLDipq6vzfQIc0c42+tlFu7AwsAAAAGLGwAIAAIgZAwtOenp6fJ8AR7SzjX520S4sDCw4Wb9+ve8T4Ih2ttHPLtqFhYEFJ83Nzb5PgCPa2UY/u2gXFgYWnPDlxnbRzjb62UW7sDCwAAAAYsbAAgAAiBkDC06ampp8nwBHtLONfnbRLiwMLDjJ5XK+T4Aj2tlGP7toFxYGFpw0Njb6PgGOaGcb/eyiXVgYWAAAADFjYAEAAMSMgQUn/f39vk+AI9rZRj+7aBcWBhacpNNp3yfAEe1so59dtAsLAwtONmzY4PsEOKKdbfSzi3ZhYWDBSWVlpe8T4Ih2ttHPLtqFhYEFAAAQMwYWAABAzBhYcNLa2ur7BDiinW30s4t2YWFgwUkmk/F9AhzRzjb62UW7sDCw4KSlpcX3CXBEO9voZxftwsLAAgAAiBkDCwAAIGYMLAAAgJgxsOAklUr5PgGOaGcb/eyiXVgYWHBSW1vr+wQ4op1t9LOLdmFhYMFJdXW17xPgiHa20c8u2oWFgQUAABAzBhYAAEDMGFhw0tXV5fsEOKKdbfSzi3ZhYWDBSXt7u+8T4Ih2ttHPLtqFhYEFJ52dnb5PgCPa2UY/u2gXFgYWAABAzBhYAAAAMXvPgfX4449rwoQJevrppyVJp06d0pIlS1ReXq45c+Zo3759A+979uxZrVy5UjNnzlRFRYV27tx5eS8HAAAYoy45sPr6+vS1r31NVVVVA489/PDDqqqq0pEjR9TW1qaVK1fq/PnzkqQtW7aouLhYR48e1bPPPquHHnpIb7311uV/BvCipqbG9wlwRDvb6GcX7cKSd2BFUaT77rtPzc3N+o3f+I2Bx3fs2KE1a9ZIkubPn6+pU6dq7969ki68eO/dt5WVlWnRokXatWvX5b4fnvAdie2inW30s4t2Yck7sB599FF9+tOf1ty5cwcee/PNN3Xu3DmVlpYOPJZMJpXNZiVJ2WxWyWQy79sw/qxYscL3CXBEO9voZxftwlJ08QM//OEPtXPnzkGvrwIAAMDwDfkM1r59+9TX16eZM2dq2rRpeuGFF/TAAw9ox44dKioq0smTJwfet7e3V4lEQtKFz1j19fXlfdtoy2QySqVS6u/vH/R4Q0ODmpqaBj2WzWaVSqXU09Mz6PGtW7eqvr5+0GO5XE6pVErd3d2DHm9vb8/7e+vLly8f8p179+zZo1QqNeR9165dq9bWVp4Hz4PnwfPgefA8eB4xPg9fCqIoit7rHRYtWqQ/+IM/0O/8zu8onU4rmUyqoaFB+/fv19KlS9Xb26vCwkI1Njaqr69PbW1tOn78uKqqqnTo0CFNnjw578fNZDKaN2+elH5CuvkDfNq076C0cYEOHDigyspK94+DEenu7tZtt93m+ww4oJ1t9LOLdqNrYGc88qKUnPv+P+FSXmiX2laPeGe87/fBKigo0LsbbNOmTfrud7+r8vJypdNpbd++XYWFhZKk+vp65XI5zZgxQ0uWLFFLS8slxxXs27x5s+8T4Ih2ttHPLtqFZchrsC72b//2bwP/u7S0VLt37877fiUlJero6IjvMoxptLaLdrbRzy7ahYXv5A4nJSUlvk+AI9rZRj+7aBcWBhYAAEDMGFgAAAAxY2DBycVfugs7aGcb/eyiXVgYWHDi63uc4YOjnW30s4t2YWFgwUldXZ3vE+CIdrbRzy7ahYWBBQAAEDMGFgAAQMwYWHAyVv6sJ4wc7Wyjn120CwsDC07Wr1/v+wQ4op1t9LOLdmFhYMFJc3Oz7xPgiHa20c8u2oWFgQUnfLmxXbSzjX520S4sDCwAAICYMbAAAABixsCCk6amJt8nwBHtbKOfXbQLCwMLTnK5nO8T4Ih2ttHPLtqFhYEFJ42Njb5PgCPa2UY/u2gXFgYWAABAzBhYAAAAMWNgwUl/f7/vE+CIdrbRzy7ahYWBBSfpdNr3CXBEO9voZxftwsLAgpMNGzb4PgGOaGcb/eyiXVgYWHBSWVnp+wQ4op1t9LOLdmFhYAEAAMSMgQUAABAzBhactLa2+j4BjmhnG/3sol1YGFhwkslkfJ8AR7SzjX520S4sDCw4aWlp8X0CHNHONvrZRbuwMLAAAABixsACAACIGQMLAAAgZgwsOEmlUr5PgCPa2UY/u2gXFgYWnNTW1vo+AY5oZxv97KJdWBhYcFJdXe37BDiinW30s4t2YWFgAQAAxIyBBQAAEDMGFpx0dXX5PgGOaGcb/eyiXVgYWHDS3t7u+wQ4op1t9LOLdmFhYMFJZ2en7xPgiHa20c8u2oWFgQUAABAzBhYAAEDMGFgAAAAxY2DBSU1Nje8T4Ih2ttHPLtqFhYEFJ3xHYrtoZxv97KJdWBhYcLJixQrfJ8AR7Wyjn120CwsDCwAAIGYMLAAAgJgxsOCku7vb9wlwRDvb6GcX7cLCwIKTzZs3+z4BjmhnG/3sol1YGFhw0tHR4fsEOKKdbfSzi3ZhYWDBSUlJie8T4Ih2ttHPLtqFhYEFAAAQMwYWAABAzBhYcFJfX+/7BDiinW30s4t2YWFgwUkikfB9AhzRzjb62UW7sDCw4KSurs73CXBEO9voZxftwsLAAgAAiBkDCwAAIGYMLDjp6enxfQIc0c42+tlFu7AwsOBk/fr1vk+AI9rZRj+7aBcWBhacNDc3+z4BjmhnG/3sol1YGFhwwpcb20U72+hnF+3CwsACAACIGQMLAAAgZgwsOGlqavJ9AhzRzjb62UW7sFxyYC1evFg33nij5s6dq4ULF+qll16SJJ06dUpLlixReXm55syZo3379g38nLNnz2rlypWaOXOmKioqtHPnzsv/DOBFLpfzfQIc0c42+tlFu7AUXeoNTz75pD784Q9Lkrq6unTvvffqpZde0pe+9CVVVVXpmWee0fe+9z3ddddd6u3tVWFhobZs2aLi4mIdPXpUvb29WrBggW6//XZdddVVo/aEMDoaGxt9nwBHtLONfnbRLiyX/AzWu+NKkv7nf/5HhYWFki4MrzVr1kiS5s+fr6lTp2rv3r2SpM7OzoG3lZWVadGiRdq1a9dlOx4AAGAsuuRnsCRp9erVeu6551RQUKB/+qd/0ptvvqlz586ptLR04H2SyaSy2awkKZvNKplM5n0bAABAKN7zRe5PPPGEstms/uzP/mzgO9BGUTQqh2Fs6+/v930CHNHONvrZRbuwDOurCFetWqXvfOc7kqQPfehDOnny5MDbent7B755WjKZVF9fX963jaZMJqNUKjXk/5gbGhqGfBVHNptVKpUa8mdEbd26VfX19YMey+VySqVS6u7uHvR4e3u7ampqhtyxfPlydXV1DXpsz549SqVSQ9537dq1am1tNfM8PvOZz4yL5zFeeozkeSxdunRcPI/x0mOkz+OGG24YF89jvPQYyfO44YYbxsXzsNbDl4Ioz6ekTp8+rVwup2uvvVbShRe5//7v/76y2azS6bSSyaQaGhq0f/9+LV26dOBF7o2Njerr61NbW5uOHz+uqqoqHTp0SJMnTx7yC2cyGc2bN09KPyHdvML9GfQdlDYu0IEDB1RZWen+cTAimUyGv99G0c42+tlFu9E1sDMeeVFKznX/QC+0S22rR7wz8r4G6/Tp07r77rv1s5/9TAUFBSotLdW3v/1tSdKmTZu0atUqlZeXa+LEidq+ffvAC+Dr6+uVTqc1Y8YMFRUVqaWlJe+4gn38S8Iu2tlGP7toF5a8AyuRSOjFF1/M+xNKS0u1e/fuvG8rKSlRR0dHfNcBAAAYxHdyBwAAiBkDC04ufiEi7KCdbfSzi3ZhYWDBSSaT8X0CHNHONvrZRbuwMLDgpKWlxfcJcEQ72+hnF+3CwsACAACIGQMLAAAgZgwsAACAmDGw4CTfH3MAG2hnG/3sol1YGFhwUltb6/sEOKKdbfSzi3ZhYWDBSXV1te8T4Ih2ttHPLtqFhYEFAAAQMwYWAABAzBhYcNLV1eX7BDiinW30s4t2YWFgwUl7e7vvE+CIdrbRzy7ahYWBBSednZ2+T4Aj2tlGP7toFxYGFgAAQMwYWAAAADFjYAEAAMSMgQUnNTU1vk+AI9rZRj+7aBcWBhac8B2J7aKdbfSzi3ZhYWDByYoVK3yfAEe0s41+dtEuLAwsAACAmDGwAAAAYsbAgpPu7m7fJ8AR7Wyjn120CwsDC042b97s+wQ4op1t9LOLdmFhYMFJR0eH7xPgiHa20c8u2oWFgQUnJSUlvk+AI9rZRj+7aBcWBhYAAEDMGFgAAAAxY2DBSX19ve8T4Ih2ttHPLtqFhYEFJ4lEwvcJcEQ72+hnF+3CwsCCk7q6Ot8nwBHtbKOfXbQLCwMLAAAgZgwsAACAmDGw4KSnp8f3CXBEO9voZxftwsLAgpP169f7PgGOaGcb/eyiXVgYWHDS3Nzs+wQ4op1t9LOLdmFhYMEJX25sF+1so59dtAsLAwsAACBmDCwAAICYMbDgpKmpyfcJcEQ72+hnF+3CwsCCk1wu5/sEOKKdbfSzi3ZhYWDBSWNjo+8T4Ih2ttHPLtqFhYEFAAAQMwYWAABAzBhYcNLf3+/7BDiinW30s4t2YWFgwUk6nfZ9AhzRzjb62UW7sDCw4GTDhg2+T4Aj2tlGP7toFxYGFpxUVlb6PgGOaGcb/eyiXVgYWAAAADFjYAEAAMSMgQUnra2tvk+AI9rZRj+7aBcWBhacZDIZ3yfAEe1so59dtAsLAwtOWlpafJ8AR7SzjX520S4sDCwAAICYMbAAAABixsACAACIGQMLTlKplO8T4Ih2ttHPLtqFhYEFJ7W1tb5PgCPa2UY/u2gXFgYWnFRXV/s+AY5oZxv97KJdWBhYAAAAMWNgAQAAxIyBBSddXV2+T4Aj2tlGP7toFxYGFpy0t7f7PgGOaGcb/eyiXVgYWHDS2dnp+wQ4op1t9LOLdmHJO7B+/vOf66677lJFRYXmzp2rxYsX69ixY5KkU6dOacmSJSovL9ecOXO0b9++gZ939uxZrVy5UjNnzlRFRYV27tw5Os8CAABgDLnkZ7AefPBB9fT06ODBg0qlUrrvvvskSV/60pdUVVWlI0eOqK2tTStXrtT58+clSVu2bFFxcbGOHj2qZ599Vg899JDeeuut0XkmAAAAY0TegTVx4kTdcccdA3998803q6+vT5L05JNPas2aNZKk+fPna+rUqdq7d6+kC5/+fPdtZWVlWrRokXbt2nVZnwAAAMBYM6zXYP3VX/2V7rzzTr355ps6d+6cSktLB96WTCaVzWYlSdlsVslkMu/bML7U1NT4PgGOaGcb/eyiXViK3u8d/vzP/1zHjh3T3/7t3yqXy43GTTCA70hsF+1so59dtAvLe34Ga8uWLerq6tKzzz6r4uJiTZ48WUVFRTp58uTA+/T29iqRSEi68Bmrd38r8eK3jaZMJqNUKqX+/v5Bjzc0NKipqWnQY9lsVqlUSj09PYMe37p1q+rr6wc9lsvllEql1N3dPejx9vb2vP9lsnz58iHf92TPnj15/8DPtWvXqrW11czzuPrqq8fF8xgvPUbyPGbNmjUunsd46THS59He3j4unsd46TGS59He3j4unoe1Hr4URFEU5XvDo48+qn/4h3/Qv/7rv2rSpEkDj6fTaSWTSTU0NGj//v1aunSpent7VVhYqMbGRvX19amtrU3Hjx9XVVWVDh06pMmTJw/5+JlMRvPmzZPST0g3r3B/Bn0HpY0LdODAAVVWVrp/HAAAMG4M7IxHXpSSc90/0AvtUtvqEe+MvL9F+Prrr+sP//AP9fGPf1yLFi1SFEUqLi7Wv//7v2vTpk1atWqVysvLNXHiRG3fvl2FhYWSpPr6eqXTac2YMUNFRUVqaWnJO64AAADGs7wDa+rUqXrnnXfy/oTS0lLt3r0779tKSkrU0dER33UYs7q7u3Xbbbf5PgMOaGcb/eyiXVj4Tu5wsnnzZt8nwBHtbKOfXbQLCwMLTvhMpV20s41+dtEuLAwsOCkpKfF9AhzRzjb62UW7sDCwAAAAYsbAAgAAiBkDC04u/uZzsIN2ttHPLtqFhYEFJz6+Qz/iQTvb6GcX7cLCwIKTuro63yfAEe1so59dtAsLAwsAACBmDCwAAICYMbDgZKz8aeUYOdrZRj+7aBcWBhacrF+/3vcJcEQ72+hnF+3CwsCCk+bmZt8nwBHtbKOfXbQLCwMLTvhyY7toZxv97KJdWBhYAAAAMWNgAQAAxIyBBSdNTU2+T4Aj2tlGP7toFxYGFpzkcjnfJ8AR7Wyjn120CwsDC04aGxt9nwBHtLONfnbRLiwMLAAAgJgxsAAAAGLGwIKT/v5+3yfAEe1so59dtAsLAwtO0um07xPgiHa20c8u2oWFgQUnGzZs8H0CHNHONvrZRbuwMLDgpLKy0vcJcEQ72+hnF+3CwsACAACIGQMLAAAgZgwsOGltbfV9AhzRzjb62UW7sDCw4CSTyfg+AY5oZxv97KJdWBhYcNLS0uL7BDiinW30s4t2YWFgAQAAxIyBBQAAEDMGFgAAQMwYWHCSSqV8nwBHtLONfnbRLiwMLDipra31fQIc0c42+tlFu7AwsOCkurra9wlwRDvb6GcX7cLCwAIAAIgZAwsAACBmDCw46erq8n0CHNHONvrZRbuwMLDgpL293fcJcEQ72+hnF+3CwsCCk87OTt8nwBHtbKOfXbQLCwMLAAAgZgwsAACAmDGwAAAAYsbAgpOamhrfJ8AR7Wyjn120CwsDC074jsR20c42+tlFu7AwsOBkxYoVvk+AI9rZRj+7aBcWBhYAAEDMGFgAAAAxY2DBSXd3t+8T4Ih2ttHPLtqFhYEFJ5s3b/Z9AhzRzjb62UW7sDCw4KSjo8P3CXBEO9voZxftwsLAgpOSkhLfJ8AR7Wyjn120CwsDCwAAIGYMLAAAgJgxsOCkvr7e9wlwRDvb6GcX7cLCwIKTRCLh+wQ4op1t9LOLdmFhYMFJXV2d7xPgiHa20c8u2oWFgQUAABAzBhYAAEDMGFhw0tPT4/sEOKKdbfSzi3ZhYWDByfr1632fAEe0s41+dtEuLAwsOGlubvZ9AhzRzjb62UW7sDCw4IQvN7aLdrbRzy7ahYWBBQAAELO8A+uLX/yipk2bpgkTJuj73//+wOOnTp3SkiVLVF5erjlz5mjfvn0Dbzt79qxWrlypmTNnqqKiQjt37rz81wMAAIxBeQfW3Xffreeff15lZWWDHn/44YdVVVWlI0eOqK2tTStXrtT58+clSVu2bFFxcbGOHj2qZ599Vg899JDeeuuty/4E4EdTU5PvE+CIdrbRzy7ahSXvwLrtttv0sY99TFEUDXp8x44dWrNmjSRp/vz5mjp1qvbu3StJ6uzsHHhbWVmZFi1apF27dl3O2+FRLpfzfQIc0c42+tlFu7AM+zVYb775ps6dO6fS0tKBx5LJpLLZrCQpm80qmUzmfRvGn8bGRt8nwBHtbKOfXbQLCy9yBwAAiNmwB9bkyZNVVFSkkydPDjzW29s78GWnyWRSfX19ed822jKZjFKplPr7+wc93tDQMOT3wLPZrFKp1JDvsLt161bV19cPeiyXyymVSqm7u3vQ4+3t7aqpqRlyx/Lly9XV1TXosT179iiVSg1537Vr16q1tZXnwfPgefA8eB48D55HjM/Dl4Lo4hda/Zpp06bpqaee0pw5cyRJ6XRayWRSDQ0N2r9/v5YuXare3l4VFhaqsbFRfX19amtr0/Hjx1VVVaVDhw5p8uTJeT92JpPRvHnzpPQT0s0r3J9B30Fp4wIdOHBAlZWV7h8HI9Lf368pU6b4PgMOaGcb/eyi3ega2BmPvCgl57p/oBfapbbVI94ZeT+DtWbNGl1//fV6/fXXtXjxYpWXl0uSNm3apO9+97sqLy9XOp3W9u3bVVhYKEmqr69XLpfTjBkztGTJErW0tFxyXMG+dDrt+wQ4op1t9LOLdmEpyvfgY489lvedS0tLtXv37rxvKykpUUdHR3yXYUzbsGGD7xPgiHa20c8u2oWFF7nDCb8daxftbKOfXbQLCwMLAAAgZgwsAACAmDGw4OTiL6WFHbSzjX520S4sDCw4yWQyvk+AI9rZRj+7aBcWBhactLS0+D4BjmhnG/3sol1YGFgAAAAxY2ABAADEjIEFAAAQMwYWnOT7gzphA+1so59dtAsLAwtOamtrfZ8AR7SzjX520S4sDCw4qa6u9n0CHNHONvrZRbuwMLAAAABixsACAACIGQMLTrq6unyfAEe0s41+dtEuLAwsOGlvb/d9AhzRzjb62UW7sDCw4KSzs9P3CXBEO9voZxftwsLAAgAAiBkDCwAAIGYMLAAAgJgxsOCkpqbG9wlwRDvb6GcX7cLCwIITviOxXbSzjX520S4sDCw4WbFihe8T4Ih2ttHPLtqFhYEFAAAQMwYWAABAzBhYcNLd3e37BDiinW30s4t2YWFgwcnmzZt9nwBHtLONfnbRLiwMLDjp6OjwfQIc0c42+tlFu7AwsOCkpKTE9wlwRDvb6GcX7cLCwAIAAIgZAwsAACBmDCw4qa+v930CHNHONvrZRbuwMLDgJJFI+D4BjmhnG/3sol1YGFhwUldX5/sEOKKdbfSzi3ZhYWABAADEjIEFAAAQMwYWnPT09Pg+AY5oZxv97KJdWBhYcLJ+/XrfJ8AR7Wyjn120CwsDC06am5t9nwBHtLONfnbRLiwMLDjhy43top1t9LOLdmFhYAEAAMSMgQUAABAzBhacNDU1+T4BjmhnG/3sol1YGFhwksvlfJ8AR7SzjX520S4sDCw4aWxs9H0CHNHONvrZRbuwFPk+AMD4l81m1d/f7/uM2E2ZMoWvDAOQFwMLwGWVzWY1e/bscfnbIyUlJTp8+DAjC8AQDCw46e/v15QpU3yfAQej3a7nHgw9AAAJP0lEQVS/v1+5XE7btm3T7NmzR+3XvdwOHz6se+65R/39/aM6sPhnzy7ahYWBBSfpdFpPP/207zPgwFe72bNnq7KyctR/3fGGf/bsol1YeJE7nGzYsMH3CXBEO9voZxftwsLAghM+E2EX7Wyjn120CwsDCwD+V19fnxYtWqQrr7yS/2cI4APhNVgAvLj//53TK2/F9/FuuEr6v//ng/0r7cMf/rA2btyo06dP65FHHonpMgAh4jNYcNLa2ur7BDgaK+1eeUt64WQU24+RjLW//Mu/1IMPPjjw16dPn9Y111yjgoIC3XLLLSopKbkMzzgeY6UfRo52YWFgwUkmk/F9AhzRTrrvvvv01FNP6e2335YkPf7447rzzjt15ZVXer7s/dHPLtqFhYEFJy0tLb5PgCPaSZMmTdJnP/tZtbW1SZK++tWvqra21vNVw0M/u2gXFl6DBSBIdXV1SqVSqqioUGlpqT75yU/6PgnAOMLAAuDFDVdJUkHMH2/4Zs2apenTp+uBBx7Qli1bBr0tiiJFURTbbQDCw8AC4MUH/Yq/ONx///2qq6vTsmXLJElnz55VeXm5fvGLX+j06dNKJBJatWqVNm7c6PlSANbwGiw4SaVSvk+AI9r9ynPPPaeHHnpIhYWFkqQrrrhCr732mt544w397Gc/UzabHXPjin520S4s/v8TEiZZeUEwhqKddOLECd1+++26+uqrtXv3bt/njAj97KJdWBhYcFJdXe37BDiinXTttdfq8OHDvs9wQj+7aBcWfosQAAAgZgwsAACAmPFbhHDS1dWlO++80/cZcOCrndXfkrsUX8+Hf/bsol1YGFhw0tTUxL8ojBrtdlOmTFFJSYnuueeeUfs1R0tJSYmmTJkyqr8m/+zZRbuwxD6wfvSjH2n16tXq7+/XlVdeqb/7u7/T7Nmz4/5l4Nk111zj+wQ4Gu12iURChw8fVn9//6j+uqNhypQpSiQSo/pr8s+eXbQLS+wD68EHH9SaNWu0atUq7dy5U6tXr9Z//Md/xP3LADAkkUiM+hABAJ9ifZH7qVOndODAAX3+85+XJC1btkyvvfaaXn311Th/GQAAgDEt1oH12muv6dprr9WECb/6sIlEQtlsNs5fBgAAYEzz9iL3s2fPXvgfx57/YB/oJ8clSX/913+ta6+99gNeJU2cOFE///nPx8zHGasfa+/evfqTP/mTGC4a33/Px+JNtBv9jxXnTXH1G+9/n8biTbQb3Y914sSJC//jlWekEz3uH+h/d8rAbhmuKEYnT56MJk2aFJ0/f37gsY9+9KPRsWPHhrzvtm3bIkn84Ac/+MEPfvCDH2P+x7Zt20a0iWL9DNY111yjyspK/f3f/71Wr16tb3zjG7r++us1ffr0Ie+7ePFibdu2TWVlZbriiiviPAMAACAWZ8+eVW9vrxYvXjyin1cQRVEU5yFHjhzRvffeq5/85CeaNGmSHn/8cX3iE5+I85cAAAAY02IfWAAAAKHjzyIEAACI2WUfWD/60Y906623atasWVqwYMEl//yub3/725o9e7ZmzZqlz372szpz5szlPg3vYzjtXnnlFS1cuFC/9Vu/pTlz5ui+++6L7StJ4G64/9y9695779WECRP09ttvj9KFuJThtnvttdeUSqVUUVGhG264QS0tLaN8KfIZbr+mpiZ94hOf0Ny5c3XLLbdo//79o3wpft0Xv/hFTZs2TRMmTND3v//9S77fiLbKB/qywWG4/fbbo69//etRFEXRN77xjeimm24a8j5nzpyJPvKRj0RHjhyJoiiKamtro/r6+st9Gt7HcNodPXo0+sEPfhBFURS988470fLly6PGxsZRvRNDDafdu775zW9G999/fzRhwoTo9OnTo3UiLmG47ebNmxft3Llz4K9Pnjw5KvfhvQ2n30svvRQlk8kol8tFUXThq+o/9alPjeqdGGzfvn3R66+/Hk2bNi16+eWX877PSLfKZR1Yw/22DU8++WS0ZMmSgb8+dOhQdN11113O0/A+RvItN37dli1bopqamst9Ht7DSNr9+Mc/jm666abozJkzUUFBAQPLs+G2+5d/+Zfo1ltvHe3z8D6G2+/ll1+Opk6dGr3xxhtRFEVRc3NztGzZslG9FfmVlZVdcmCNdKtc1t8iHO53ds9ms0omkwN/XVZWph//+Md65513Lud5eA8u35X/pz/9qb72ta/xp8V7NpJ2DzzwgP7iL/5Cv/mbvzmaJ+IShtvu0KFDmjJlilasWKHKykotW7ZMx48fH+1zcZHh9pszZ47WrVunadOmKZFI6Ctf+Yq2bt062udihEa6VXiRO2Lxy1/+Up/73Od0xx13KJVK+T4Hw9Da2qpkMqmFCxf6PgUjdO7cOT333HNqaGhQJpNRdXW1fvd3f9f3WRim3t5effOb39Srr76qbDardevW0W8cuqwD6/rrr9eJEycGrbtsNqtEIjHo/RKJhHp7ewf++vjx40P+KwCja7jtpAv/sl++fLmmTp2qL3/5y6N5JvIYbrvnnntOTz31lKZPn65p06ZJuvBf1i+//PKo3otfGcm/M+fOnauKigpJ0qpVq3Tw4EGdP39+VO/FYMPtt3PnTs2ZM0cf+chHJEk1NTV6/vnnde7cuVG9FyMz0q1yWRfMr39nd0mX/M7ud9xxhw4ePKgjR45Ikr761a/qc5/73OU8De9juO3Onz+v5cuX6+qrr9Zjjz3m41RcZLjttm3bpr6+Pr366qsDv730gx/8QJ/85CdH/WZcMNx2S5Ys0X/913/pv//7vyVJ//iP/6jZs2ersLBw1G/Grwy33/Tp0/X888/rpz/9qSTpW9/6lmbNmqWiIm9/PDCGYcRbJfZXiF3kP//zP6OqqqqovLw8uummm6If/vCHURRF0Z/+6Z9Gf/M3fzPwft/61reiioqKaObMmdFdd90Vvf3225f7NLyP4bTbvn17NGHChOjGG2+Mbrzxxmju3LlRbW2tz7MRDf+fu1/HVxGODcNt98///M8D/9wtXLgweuWVV3ydjF8z3H5//Md/HFVUVEQ33nhjdOutt0aZTMbXyYii6MEHH4yuu+666EMf+lD00Y9+NJo5c2YURR9sq/Cd3AEAAGLGi5wAAABixsACAACIGQMLAAAgZgwsAACAmDGwAAAAYvb/ATkZVgkhZbMOAAAAAElFTkSuQmCC\" />"
      ]
     },
     "execution_count": 10,
     "metadata": {},
     "output_type": "execute_result"
    }
   ],
   "source": [
    "statepure=projector([1,1]/sqrt(2));\n",
    "list=sampling_sigma_z(statepure,1000);\n",
    "Plots.histogram(list)"
   ]
  },
  {
   "cell_type": "markdown",
   "metadata": {},
   "source": [
    "Ahora con el estado rotado"
   ]
  },
  {
   "cell_type": "code",
   "execution_count": 11,
   "metadata": {
    "collapsed": false
   },
   "outputs": [
    {
     "data": {
      "text/plain": [
       "2x2 Array{Complex{Float64},2}:\n",
       "  0.707107+0.0im  0.707107+0.0im\n",
       " -0.707107+0.0im  0.707107+0.0im"
      ]
     },
     "execution_count": 11,
     "metadata": {},
     "output_type": "execute_result"
    }
   ],
   "source": [
    "rotation=expm(im*sigma_y*pi/4)"
   ]
  },
  {
   "cell_type": "code",
   "execution_count": 12,
   "metadata": {
    "collapsed": false
   },
   "outputs": [
    {
     "data": {
      "text/html": [
       "<img src=\"data:image/png;base64,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\" />"
      ]
     },
     "execution_count": 12,
     "metadata": {},
     "output_type": "execute_result"
    }
   ],
   "source": [
    "statepurerot=rotation*statepure*(rotation');\n",
    "list=sampling_sigma_z(statepurerot,1000);\n",
    "Plots.histogram(list) # Aqui si da puros ceros, pero el histograma no lo refleja"
   ]
  },
  {
   "cell_type": "code",
   "execution_count": 13,
   "metadata": {
    "collapsed": false
   },
   "outputs": [
    {
     "data": {
      "text/html": [
       "<img src=\"data:image/png;base64,iVBORw0KGgoAAAANSUhEUgAAAlgAAAGQCAYAAAByNR6YAAAABHNCSVQICAgIfAhkiAAAAAlwSFlzAAAPYQAAD2EBqD+naQAAIABJREFUeJzt3X901vV99/EXJB2YnSOKGLVoroRCCK1LTcBiqrs94Y9gerrrFmhLSeVgcvzB0WR6toW6eraQc+YOYcx1h2S1vZtYHSwJNiXabgr7YbmJrQ651GqBQpXkck6FVIezV+wKfu8/uL1qJNTk4zf55J3P83EO59QrIbwvn9O9DMnFtCiKIgEAACA2030fAAAAMNUwsAAAAGLGwAIAAIjZWQdWYWGhFi1apLKyMpWXl+uhhx6SJB0/flzV1dUqLi5WaWmp9u7dm/05Q0NDqqmp0YIFC1RSUqKenp7xfwYAAACTTO7Z3jB9+nTt2LFDv/d7vzfs8bvuuksVFRV69NFH9fTTT2vFihXq7+9XTk6OtmzZopkzZ+rIkSPq7+/X0qVLtWzZMp1//vnj/kQAAAAmi7N+BiuKIo30DYY7duzQ+vXrJUlLlizR3LlztWfPHklSd3d39m2FhYWqrKzUzp07x+NuAACASeusn8GSpLVr10qSPvOZz2jTpk2aNm2aTp48qfz8/Oz7JBIJpdNpSVI6nVYikRjxbR80ODioXbt2qbCwUOecc85HfiIAAABxGxoaUn9/v5YvX645c+aM+ueddWDt3btXl156qU6dOqW7775b69at04MPPjjiZ7Vc7Nq1SzfccEMsHwsAAGA8bdu2TV/5yldG/f5nHViXXnqpJCknJ0d33nmnFi5cqNmzZys3N1fHjh3Lfharv79fBQUFkk5/xmpgYEAXXXRR9m3Lly8f8eMXFhZKks4991x94hOfGPa2//7v/9bnP/95LVmyJPvY888/r927d+uP//iPh73vd77zHX3yk5/UunXrso8dPHhQ3/zmN9XU1DTs67/uu+8+zZw5UzfeeGP2sVdffVUtLS264447VFRUlH28q6tLr732mu68887sY0NDQ/rTP/1TrVu3TmVlZdnHH3vsMT355JPauHHjsNvuuusuLV++XJWVldnHfvzjH6u7u1tf//rXh73vpk2bVFJSouuvv97E8/jSl76kj3/84+afx1TpMZbnUVNTo/z8fPPPY6r0GOvzqKmpUUdHh/nnMVV6jOV5fO5zn9O9995r/nlY6XHw4MHTn8j53NekixfK2YtPSHu+ld0tozVtpFdyz2Qy+vWvf61Zs2ZJku6991498sgj+uEPf6i6ujolEgk1NTVp3759WrlyZfaL3JubmzUwMKCOjg4dPXpUFRUVOnDggGbPnn3GL5xKpbR48WK3J/sBM8/J088OHcwOPYy/ZDKpRx55xPcZcEA72+hnF+0mVnZn3P2UlCj78J9wNk92Sh3rtH//fpWXl4/6p434GazXX39dq1at0rvvvqsoijRv3jw9+OCDkk4vzLVr16q4uFgzZszQ9u3blZOTI0lqbGxUXV2d5s+fr9zcXLW1tY04rob53Neksv896oPP8NpBvdN+owYHBxlYAABgUhhxYBUVFSmVSo34E/Lz87Vr164R35aXl6eurq6xXXDxwo+2LAEAACYZXskdTs723aGY/GhnG/3sol1YGFhw8v6X6oAttLONfnbRLiwMLDjZvXu37xPgiHa20c8u2oWFgQUAABAzBhYAAEDMGFgAAAAxY2DBSTKZ9H0CHNHONvrZRbuwMLDgpL6+3vcJcEQ72+hnF+3CwsCCk6qqKt8nwBHtbKOfXbQLCwMLAAAgZgwsAACAmDGw4KS3t9f3CXBEO9voZxftwsLAgpPOzk7fJ8AR7Wyjn120CwsDC066u7t9nwBHtLONfnbRLiwMLAAAgJgxsAAAAGLGwAIAAIgZAwtOamtrfZ8AR7SzjX520S4sDCw44RWJ7aKdbfSzi3ZhYWDByZo1a3yfAEe0s41+dtEuLAwsAACAmDGwAAAAYsbAgpO+vj7fJ8AR7Wyjn120CwsDC042b97s+wQ4op1t9LOLdmFhYMFJV1eX7xPgiHa20c8u2oWFgQUneXl5vk+AI9rZRj+7aBcWBhYAAEDMGFgAAAAxY2DBSWNjo+8T4Ih2ttHPLtqFhYEFJwUFBb5PgCPa2UY/u2gXFgYWnDQ0NPg+AY5oZxv97KJdWBhYAAAAMWNgAQAAxIyBBSeHDh3yfQIc0c42+tlFu7AwsOBkw4YNvk+AI9rZRj+7aBcWBhactLa2+j4BjmhnG/3sol1YGFhwwrcb20U72+hnF+3CwsACAACIGQMLAAAgZgwsOGlpafF9AhzRzjb62UW7sDCw4CSTyfg+AY5oZxv97KJdWBhYcNLc3Oz7BDiinW30s4t2YWFgAQAAxIyBBQAAEDMGFpwMDg76PgGOaGcb/eyiXVgYWHBSV1fn+wQ4op1t9LOLdmFhYMHJxo0bfZ8AR7SzjX520S4sDCw4KS8v930CHNHONvrZRbuwMLAAAABixsACAACIGQMLTtrb232fAEe0s41+dtEuLAwsOEmlUr5PgCPa2UY/u2gXFgYWnLS1tfk+AY5oZxv97KJdWBhYAAAAMWNgAQAAxIyBBQAAEDMGFpwkk0nfJ8AR7Wyjn120CwsDC07q6+t9nwBHtLONfnbRLiwMLDipqqryfQIc0c42+tlFu7AwsAAAAGLGwAIAAIgZAwtOent7fZ8AR7SzjX520S4sDCw46ezs9H0CHNHONvrZRbuwMLDgpLu72/cJcEQ72+hnF+3CwsACAACI2W8dWPfff7+mT5+uRx55RJJ0/PhxVVdXq7i4WKWlpdq7d2/2fYeGhlRTU6MFCxaopKREPT0943s5AADAJJV7tjcMDAzo29/+tioqKrKP3XXXXaqoqNCjjz6qp59+WitWrFB/f79ycnK0ZcsWzZw5U0eOHFF/f7+WLl2qZcuW6fzzz5+QJwIAADBZjPgZrCiKdNNNN6m1tVW/8zu/k318x44dWr9+vSRpyZIlmjt3rvbs2SPp9O8tv/e2wsJCVVZWaufOneN9Pzypra31fQIc0c42+tlFu7CMOLDuvfde/f7v/77Kysqyj73xxhs6efKk8vPzs48lEgml02lJUjqdViKRGPFtmHp4RWK7aGcb/eyiXVjO+C3Cn/70p+rp6Rn29VXAB61Zs8b3CXBEO9voZxftwnLGZ7D27t2rgYEBLViwQEVFRXryySd1yy23aMeOHcrNzdWxY8ey79vf36+CggJJpz9jNTAwMOLbJloqlVIymdTg4OCwx5uamtTS0jLssXQ6rWQyqUOHDg17fOvWrWpsbBz2WCaTUTKZVF9f37DHOzs7R/zU7+rVq894Ybndu3eP+Ceq33777Wpvb+d58Dx4HjwPngfPg+cR4/PwZVoURdFve4fKykr90R/9kf7gD/5AdXV1SiQSampq0r59+7Ry5crsF7k3NzdrYGBAHR0dOnr0qCoqKnTgwAHNnj17xI+bSqW0ePFiqe4B6aqPsOoHnpHuWar9+/ervLzc/eMAAIApI7sz7n5KSpR9+E84myc7pY51Y94ZH/o6WNOmTdN7G2zTpk360Y9+pOLiYtXV1Wn79u3KycmRJDU2NiqTyWj+/Pmqrq5WW1vbWccV7Pvgf73ADtrZRj+7aBeWs75Mw3v+7d/+Lfu/8/PztWvXrhHfLy8vT11dXfFdhklt8+bNuuaaa3yfAQe0s41+dtEuLLySO5wwpu2inW30s4t2YWFgwUleXp7vE+CIdrbRzy7ahYWBBQAAEDMGFgAAQMwYWHDywddGgR20s41+dtEuLAwsOPH1IrL46GhnG/3sol1YGFhw0tDQ4PsEOKKdbfSzi3ZhYWABAADEjIEFAAAQMwYWnEyWP0wTY0c72+hnF+3CwsCCkw0bNvg+AY5oZxv97KJdWBhYcNLa2ur7BDiinW30s4t2YWFgwQnfbmwX7Wyjn120CwsDCwAAIGYMLAAAgJgxsOCkpaXF9wlwRDvb6GcX7cLCwIKTTCbj+wQ4op1t9LOLdmFhYMFJc3Oz7xPgiHa20c8u2oWFgQUAABAzBhYAAEDMGFhwMjg46PsEOKKdbfSzi3ZhYWDBSV1dne8T4Ih2ttHPLtqFhYEFJxs3bvR9AhzRzjb62UW7sDCw4KS8vNz3CXBEO9voZxftwsLAAgAAiBkDCwAAIGYMLDhpb2/3fQIc0c42+tlFu7AwsOAklUr5PgGOaGcb/eyiXVgYWHDS1tbm+wQ4op1t9LOLdmFhYAEAAMSMgQUAABAzBhYAAEDMGFhwkkwmfZ8AR7SzjX520S4sDCw4qa+v930CHNHONvrZRbuwMLDgpKqqyvcJcEQ72+hnF+3CwsACAACIGQMLAAAgZgwsOOnt7fV9AhzRzjb62UW7sDCw4KSzs9P3CXBEO9voZxftwsLAgpPu7m7fJ8AR7Wyjn120CwsDCwAAIGYMLAAAgJgxsAAAAGLGwIKT2tpa3yfAEe1so59dtAsLAwtOeEViu2hnG/3sol1YGFhwsmbNGt8nwBHtbKOfXbQLCwMLAAAgZgwsAACAmDGw4KSvr8/3CXBEO9voZxftwsLAgpPNmzf7PgGOaGcb/eyiXVgYWHDS1dXl+wQ4op1t9LOLdmFhYMFJXl6e7xPgiHa20c8u2oWFgQUAABAzBhYAAEDMGFhw0tjY6PsEOKKdbfSzi3ZhYWDBSUFBge8T4Ih2ttHPLtqFhYEFJw0NDb5PgCPa2UY/u2gXFgYWAABAzBhYAAAAMWNgwcmhQ4d8nwBHtLONfnbRLiwMLDjZsGGD7xPgiHa20c8u2oWFgQUnra2tvk+AI9rZRj+7aBcWBhac8O3GdtHONvrZRbuwMLAAAABixsACAACIGQMLTlpaWnyfAEe0s41+dtEuLGcdWMuXL9cVV1yhsrIyXXvttXr22WclScePH1d1dbWKi4tVWlqqvXv3Zn/O0NCQampqtGDBApWUlKinp2f8nwG8yGQyvk+AI9rZRj+7aBeW3LO94aGHHtK5554rSert7dWNN96oZ599Vl/96ldVUVGhRx99VE8//bRWrFih/v5+5eTkaMuWLZo5c6aOHDmi/v5+LV26VMuWLdP5558/YU8IE6O5udn3CXBEO9voZxftwnLWz2C9N64k6b/+67+Uk5Mj6fTwWr9+vSRpyZIlmjt3rvbs2SNJ6u7uzr6tsLBQlZWV2rlz57gdDwAAMBmd9TNYkrRu3To9/vjjmjZtmv7pn/5Jb7zxhk6ePKn8/Pzs+yQSCaXTaUlSOp1WIpEY8W0AAACh+K1f5P7AAw8onU7rL/7iL7KvQBtF0YQchsltcHDQ9wlwRDvb6GcX7cIyqu8iXLt2rX74wx9Kkj72sY/p2LFj2bf19/dnXzwtkUhoYGBgxLdNpFQqpWQyecb/MTc1NZ3xXRzpdFrJZPKMPyNq69atamxsHPZYJpNRMplUX1/fsMc7OztVW1t7xh2rV69Wb2/vsMd2796tZDJ5xvvefvvtam9vN/M8Pv/5z0+J5zFVeozleaxcuXJKPI+p0mOsz+Pyyy+fEs9jqvQYy/O4/PLLp8TzsNbDl2nRCJ+SOnHihDKZjC655BJJp7/I/Q//8A+VTqdVV1enRCKhpqYm7du3TytXrsx+kXtzc7MGBgbU0dGho0ePqqKiQgcOHNDs2bPP+IVTqZQWL14s1T0gXbXG/RkMPCPds1T79+9XeXm5+8fBmKRSKf5+G0U72+hnF+0mVnZn3P2UlChz/0BPdkod68a8M0b8GqwTJ07oi1/8ot555x1NmzZN+fn5+sEPfiBJ2rRpk9auXavi4mLNmDFD27dvz34BfGNjo+rq6jR//nzl5uaqra1txHEF+/iXhF20s41+dtEuLCMOrIKCAj311FMj/oT8/Hzt2rVrxLfl5eWpq6srvusAAAAM4pXcAQAAYsbAgpMPfiEi7KCdbfSzi3ZhYWDBSSqV8n0CHNHONvrZRbuwMLDgpK2tzfcJcEQ72+hnF+3CwsACAACIGQMLAAAgZgwsAACAmDGw4GSkP+YANtDONvrZRbuwMLDgpL6+3vcJcEQ72+hnF+3CwsCCk6qqKt8nwBHtbKOfXbQLCwMLAAAgZgwsAACAmDGw4KS3t9f3CXBEO9voZxftwsLAgpPOzk7fJ8AR7Wyjn120CwsDC066u7t9nwBHtLONfnbRLiwMLAAAgJgxsAAAAGLGwAIAAIgZAwtOamtrfZ8AR7SzjX520S4sDCw44RWJ7aKdbfSzi3ZhYWDByZo1a3yfAEe0s41+dtEuLAwsAACAmDGwAAAAYsbAgpO+vj7fJ8AR7Wyjn120CwsDC042b97s+wQ4op1t9LOLdmFhYMFJV1eX7xPgiHa20c8u2oWFgQUneXl5vk+AI9rZRj+7aBcWBhYAAEDMGFgAAAAxY2DBSWNjo+8T4Ih2ttHPLtqFhYEFJwUFBb5PgCPa2UY/u2gXFgYWnDQ0NPg+AY5oZxv97KJdWBhYAAAAMWNgAQAAxIyBBSeHDh3yfQIc0c42+tlFu7AwsOBkw4YNvk+AI9rZRj+7aBcWBhactLa2+j4BjmhnG/3sol1YGFhwwrcb20U72+hnF+3CwsACAACIGQMLAAAgZgwsOGlpafF9AhzRzjb62UW7sDCw4CSTyfg+AY5oZxv97KJdWBhYcNLc3Oz7BDiinW30s4t2YWFgAQAAxIyBBQAAEDMGFpwMDg76PgGOaGcb/eyiXVgYWHBSV1fn+wQ4op1t9LOLdmFhYMHJxo0bfZ8AR7SzjX520S4sDCw4KS8v930CHNHONvrZRbuwMLAAAABixsACAACIGQMLTtrb232fAEe0s41+dtEuLAwsOEmlUr5PgCPa2UY/u2gXFgYWnLS1tfk+AY5oZxv97KJdWBhYAAAAMWNgAQAAxIyBBQAAEDMGFpwkk0nfJ8AR7Wyjn120CwsDC07q6+t9nwBHtLONfnbRLiwMLDipqqryfQIc0c42+tlFu7AwsAAAAGLGwAIAAIgZAwtOent7fZ8AR7SzjX520S4sDCw46ezs9H0CHNHONvrZRbuwMLDgpLu72/cJcEQ72+hnF+3CMuLA+tWvfqUVK1aopKREZWVlWr58uV588UVJ0vHjx1VdXa3i4mKVlpZq79692Z83NDSkmpoaLViwQCUlJerp6ZmYZwEAADCJnPUzWLfeeqsOHTqkZ555RslkUjfddJMk6atf/aoqKip0+PBhdXR0qKamRqdOnZIkbdmyRTNnztSRI0f02GOP6bbbbtObb745Mc8EAABgkhhxYM2YMUPXXXdd9q+vuuoqDQwMSJIeeughrV+/XpK0ZMkSzZ07V3v27JF0+tOf772tsLBQlZWV2rlz57g+AQAAgMlmVF+D9bd/+7e6/vrr9cYbb+jkyZPKz8/Pvi2RSCidTkuS0um0EonEiG/D1FJbW+v7BDiinW30s4t2Ycn9sHf4y7/8S7344ov61re+pUwmMxE3wQBekdgu2tlGP7toF5bf+hmsLVu2qLe3V4899phmzpyp2bNnKzc3V8eOHcu+T39/vwoKCiSd/ozVe7+V+MG3TaRUKqVkMqnBwcFhjzc1NamlpWXYY+l0WslkUocOHRr2+NatW9XY2DjssUwmo2Qyqb6+vmGPd3Z2jvhfJqtXrz7jdU9279494h/4efvtt6u9vd3M87jgggumxPOYKj3G8jwWLlw4JZ7HVOkx1ufR2dk5JZ7HVOkxlufR2dk5JZ6HtR6+TIuiKBrpDffee6/+4R/+Qf/6r/+qWbNmZR+vq6tTIpFQU1OT9u3bp5UrV6q/v185OTlqbm7WwMCAOjo6dPToUVVUVOjAgQOaPXv2GR8/lUpp8eLFUt0D0lVr3J/BwDPSPUu1f/9+lZeXu38cAAAwZWR3xt1PSYky9w/0ZKfUsW7MO2PE3yJ85ZVX9Cd/8if6xCc+ocrKSkVRpJkzZ+rHP/6xNm3apLVr16q4uFgzZszQ9u3blZOTI0lqbGxUXV2d5s+fr9zcXLW1tY04rgAAAKayEQfW3Llz9e677474E/Lz87Vr164R35aXl6eurq74rsOk1dfXp2uuucb3GXBAO9voZxftwsIrucPJ5s2bfZ8AR7SzjX520S4sDCw44TOVdtHONvrZRbuwMLDgJC8vz/cJcEQ72+hnF+3CwsACAACIGQMLAAAgZgwsOPngi8/BDtrZRj+7aBcWBhac+HiFfsSDdrbRzy7ahYWBBScNDQ2+T4Aj2tlGP7toFxYGFgAAQMwYWAAAADFjYMHJZPnTyjF2tLONfnbRLiwMLDjZsGGD7xPgiHa20c8u2oWFgQUnra2tvk+AI9rZRj+7aBcWBhac8O3GdtHONvrZRbuwMLAAAABixsACAACIGQMLTlpaWnyfAEe0s41+dtEuLAwsOMlkMr5PgCPa2UY/u2gXFgYWnDQ3N/s+AY5oZxv97KJdWBhYAAAAMWNgAQAAxIyBBSeDg4O+T4Aj2tlGP7toFxYGFpzU1dX5PgGOaGcb/eyiXVgYWHCyceNG3yfAEe1so59dtAsLAwtOysvLfZ8AR7SzjX520S4sDCwAAICYMbAAAABixsCCk/b2dt8nwBHtbKOfXbQLCwMLTlKplO8T4Ih2ttHPLtqFhYEFJ21tbb5PgCPa2UY/u2gXFgYWAABAzBhYAAAAMWNgAQAAxIyBBSfJZNL3CXBEO9voZxftwsLAgpP6+nrfJ8AR7Wyjn120CwsDC06qqqp8nwBHtLONfnbRLiwMLAAAgJgxsAAAAGLGwIKT3t5e3yfAEe1so59dtAsLAwtOOjs7fZ8AR7SzjX520S4sDCw46e7u9n0CHNHONvrZRbuwMLAAAABixsACAACIGQMLAAAgZgwsOKmtrfV9AhzRzjb62UW7sDCw4IRXJLaLdrbRzy7ahYWBBSdr1qzxfQIc0c42+tlFu7AwsAAAAGLGwAIAAIgZAwtO+vr6fJ8AR7SzjX520S4sDCw42bx5s+8T4Ih2ttHPLtqFhYEFJ11dXb5PgCPa2UY/u2gXFgYWnOTl5fk+AY5oZxv97KJdWBhYAAAAMWNgAQAAxIyBBSeNjY2+T4Aj2tlGP7toFxYGFpwUFBT4PgGOaGcb/eyiXVgYWHDS0NDg+wQ4op1t9LOLdmFhYAEAAMSMgQUAABAzBhacHDp0yPcJcEQ72+hnF+3CwsCCkw0bNvg+AY5oZxv97KJdWBhYcNLa2ur7BDiinW30s4t2YWFgwQnfbmwX7Wyjn120CwsDCwAAIGYjDqw77rhDRUVFmj59un7yk59kHz9+/Liqq6tVXFys0tJS7d27N/u2oaEh1dTUaMGCBSopKVFPT8/4Xw8AADAJjTiwvvjFL+qJJ55QYWHhsMfvuusuVVRU6PDhw+ro6FBNTY1OnTolSdqyZYtmzpypI0eO6LHHHtNtt92mN998c9yfAPxoaWnxfQIc0c42+tlFu7CMOLCuueYaffzjH1cURcMe37Fjh9avXy9JWrJkiebOnas9e/ZIkrq7u7NvKywsVGVlpXbu3Dmet8OjTCbj+wQ4op1t9LOLdmEZ9ddgvfHGGzp58qTy8/OzjyUSCaXTaUlSOp1WIpEY8W2Yepqbm32fAEe0s41+dtEuLHyROwAAQMxGPbBmz56t3NxcHTt2LPtYf39/9ttOE4mEBgYGRnzbREulUkomkxocHBz2eFNT0xm/B55Op5VMJs94hd2tW7eqsbFx2GOZTEbJZFJ9fX3DHu/s7FRtbe0Zd6xevVq9vb3DHtu9e7eSyeQZ73v77bervb2d58Hz4HnwPHgePA+eR4zPw5dp0Qe/0Op9ioqK9PDDD6u0tFSSVFdXp0QioaamJu3bt08rV65Uf3+/cnJy1NzcrIGBAXV0dOjo0aOqqKjQgQMHNHv27BE/diqV0uLFi6W6B6Sr1rg/g4FnpHuWav/+/SovL3f/OBiTwcFBzZkzx/cZcEA72+hnF+0mVnZn3P2UlChz/0BPdkod68a8M0b8DNb69et12WWX6ZVXXtHy5ctVXFwsSdq0aZN+9KMfqbi4WHV1ddq+fbtycnIkSY2NjcpkMpo/f76qq6vV1tZ21nEF++rq6nyfAEe0s41+dtEuLLkjPXjfffeN+M75+fnatWvXiG/Ly8tTV1dXfJdhUtu4caPvE+CIdrbRzy7ahYUvcocTfjvWLtrZRj+7aBcWBhYAAEDMGFgAAAAxY2DByQe/lRZ20M42+tlFu7AwsOAklUr5PgGOaGcb/eyiXVgYWHDS1tbm+wQ4op1t9LOLdmFhYAEAAMSMgQUAABAzBhYAAEDMGFhwMtIf1AkbaGcb/eyiXVgYWHBSX1/v+wQ4op1t9LOLdmFhYMFJVVWV7xPgiHa20c8u2oWFgQUAABAzBhYAAEDMGFhw0tvb6/sEOKKdbfSzi3ZhYWDBSWdnp+8T4Ih2ttHPLtqFhYEFJ93d3b5PgCPa2UY/u2gXFgYWAABAzBhYAAAAMWNgAQAAxIyBBSe1tbW+T4Aj2tlGP7toFxYGFpzwisR20c42+tlFu7AwsOBkzZo1vk+AI9rZRj+7aBcWBhYAAEDMGFgAAAAxY2DBSV9fn+8T4Ih2ttHPLtqFhYEFJ5s3b/Z9AhzRzjb62UW7sDCw4KSrq8v3CXBEO9voZxftwsLAgpO8vDzfJ8AR7Wyjn120CwsDCwAAIGYMLAAAgJgxsOCksbHR9wlwRDvb6GcX7cLCwIKTgoIC3yfAEe1so59dtAsLAwtOGhoafJ8AR7SzjX520S4sDCwAAICYMbAAAABixsCCk0OHDvk+AY5oZxv97KJdWBhYcLJhwwbfJ8AR7Wyjn120CwsDC05aW1t9nwBHtLONfnbRLiwMLDjh243top1t9LOLdmFhYAEAAMSMgQUAABAzBhactLS0+D4BjmhnG/3sol1YGFhwkslkfJ8AR7SzjX520S4sDCw4aW5u9n0CHNHONvrZRbuw5Po+AMDUl06nNTg46PuM2M2ZM4fvDAMwIgYWgHGVTqe1aNGiKfnbI3l5eTp48CAjC8AZGFhwMjg4qDlz5vg+Aw4mut3g4KAymYy2bdumRYvgwgnZAAAJL0lEQVQWTdivO94OHjyoG264QYODgxM6sPhnzy7ahYWBBSd1dXV65JFHfJ8BB77aLVq0SOXl5RP+6041/LNnF+3Cwhe5w8nGjRt9nwBHtLONfnbRLiwMLDjhMxF20c42+tlFu7AwsADg/xsYGFBlZaXOO+88/p8hgI+Er8EC4MXN//ekXngzvo93+fnS//lfH+1faeeee67uuecenThxQnfffXdMlwEIEZ/BgpP29nbfJ8DRZGn3wpvSk8ei2H6MZaz99V//tW699dbsX584cUIXXnihpk2bps9+9rPKy8sbh2ccj8nSD2NHu7AwsOAklUr5PgGOaCfddNNNevjhh/XWW29Jku6//35df/31Ou+88zxf9uHoZxftwsLAgpO2tjbfJ8AR7aRZs2bpC1/4gjo6OiRJ3/jGN1RfX+/5qtGhn120CwtfgwUgSA0NDUomkyopKVF+fr4+/elP+z4JwBTCwALgxeXnS9K0mD/e6C1cuFDz5s3TLbfcoi1btgx7WxRFiqIottsAhIeBBcCLj/odf3G4+eab1dDQoFWrVkmShoaGVFxcrP/5n//RiRMnVFBQoLVr1+qee+7xfCkAa/gaLDhJJpO+T4Aj2v3G448/rttuu005OTmSpHPOOUcvv/yyXn/9db3zzjtKp9OTblzRzy7ahcX/f0LCJCtfEIwz0U569dVXtWzZMl1wwQXatWuX73PGhH520S4sDCw4qaqq8n0CHNFOuuSSS3Tw4EHfZzihn120Cwu/RQgAABAzBhYAAEDM+C1COOnt7dX111/v+ww48NXO6m/JnY2v58M/e3bRLiwMLDhpaWnhXxRGTXS7OXPmKC8vTzfccMOE/ZoTJS8vT3PmzJnQX5N/9uyiXVhiH1g///nPtW7dOg0ODuq8887Td77zHS1atCjuXwaeXXjhhb5PgKOJbldQUKCDBw9qcHBwQn/diTBnzhwVFBRM6K/JP3t20S4ssQ+sW2+9VevXr9fatWvV09OjdevW6d///d/j/mUAGFJQUDDhQwQAfIr1i9yPHz+u/fv36ytf+YokadWqVXr55Zf10ksvxfnLAAAATGqxDqyXX35Zl1xyiaZP/82HLSgoUDqdjvOXAQAAmNS8fZH70NDQ6f/x4hMf7QP94qgk6e/+7u90ySWXfMSrpBkzZuhXv/rVpPk4k/Vj7dmzR3/2Z38Ww0VT++/5ZLyJdhP/seK8Ka5+U/3v02S8iXYT+7FeffXV0//jhUelVw+5f6D/v1Oyu2W0ohgdO3YsmjVrVnTq1KnsYxdffHH04osvnvG+27ZtiyTxgx/84Ac/+MEPfkz6H9u2bRvTJor1M1gXXnihysvL9fd///dat26dvvvd7+qyyy7TvHnzznjf5cuXa9u2bSosLNQ555wT5xkAAACxGBoaUn9/v5YvXz6mnzctiqIozkMOHz6sG2+8Ub/4xS80a9Ys3X///frUpz4V5y8BAAAwqcU+sAAAAELHn0UIAAAQs3EfWD//+c919dVXa+HChVq6dOlZ//yuH/zgB1q0aJEWLlyoL3zhC3r77bfH+zR8iNG0e+GFF3Tttdfqk5/8pEpLS3XTTTfF9p0kcDfaf+7ec+ONN2r69Ol66623JuhCnM1o27388stKJpMqKSnR5Zdfrra2tgm+FCMZbb+WlhZ96lOfUllZmT772c9q3759E3wp3u+OO+5QUVGRpk+frp/85Cdnfb8xbZWP9G2Do7Bs2bLowQcfjKIoir773e9GV1555Rnv8/bbb0cXXXRRdPjw4SiKoqi+vj5qbGwc79PwIUbT7siRI9Hzzz8fRVEUvfvuu9Hq1auj5ubmCb0TZxpNu/d873vfi26++eZo+vTp0YkTJybqRJzFaNstXrw46unpyf71sWPHJuQ+/Haj6ffss89GiUQiymQyURSd/q76z3zmMxN6J4bbu3dv9Morr0RFRUXRc889N+L7jHWrjOvAGu3LNjz00ENRdXV19q8PHDgQXXrppeN5Gj7EWF5y4/22bNkS1dbWjvd5+C3G0u61116Lrrzyyujtt9+Opk2bxsDybLTt/uVf/iW6+uqrJ/o8fIjR9nvuueeiuXPnRq+//noURVHU2toarVq1akJvxcgKCwvPOrDGulXG9bcIR/vK7ul0WolEIvvXhYWFeu211/Tuu++O53n4LVxelf+Xv/ylvv3tb/OnxXs2lna33HKL/uqv/kq/+7u/O5En4ixG2+7AgQOaM2eO1qxZo/Lycq1atUpHjx6d6HPxAaPtV1paqjvvvFNFRUUqKCjQ17/+dW3dunWiz8UYjXWr8EXuiMWvf/1rffnLX9Z1112nZDLp+xyMQnt7uxKJhK699lrfp2CMTp48qccff1xNTU1KpVKqqqrSl770Jd9nYZT6+/v1ve99Ty+99JLS6bTuvPNO+k1B4zqwLrvsMr366qvD1l06nVZBQcGw9ysoKFB/f3/2r48ePXrGfwVgYo22nXT6X/arV6/W3Llz9Td/8zcTeSZGMNp2jz/+uB5++GHNmzdPRUVFkk7/l/Vzzz03offiN8by78yysjKVlJRIktauXatnnnlGp06dmtB7Mdxo+/X09Ki0tFQXXXSRJKm2tlZPPPGETp48OaH3YmzGulXGdcG8/5XdJZ31ld2vu+46PfPMMzp8+LAk6Rvf+Ia+/OUvj+dp+BCjbXfq1CmtXr1aF1xwge677z4fp+IDRttu27ZtGhgY0EsvvZT97aXnn39en/70pyf8Zpw22nbV1dX6j//4D/3nf/6nJOkf//EftWjRIuXk5Ez4zfiN0fabN2+ennjiCf3yl7+UJH3/+9/XwoULlZvr7Y8HxiiMeavE/hViH/Czn/0sqqioiIqLi6Mrr7wy+ulPfxpFURT9+Z//efTNb34z+37f//73o5KSkmjBggXRihUrorfeemu8T8OHGE277du3R9OnT4+uuOKK6IorrojKysqi+vp6n2cjGv0/d+/HdxFODqNt98///M/Zf+6uvfba6IUXXvB1Mt5ntP2+9rWvRSUlJdEVV1wRXX311VEqlfJ1MqIouvXWW6NLL700+tjHPhZdfPHF0YIFC6Io+mhbhVdyBwAAiBlf5AQAABAzBhYAAEDMGFgAAAAxY2ABAADEjIEFAAAQs/8Hwf9lzpE8l+QAAAAASUVORK5CYII=\" />"
      ]
     },
     "execution_count": 13,
     "metadata": {},
     "output_type": "execute_result"
    }
   ],
   "source": [
    "statemixrot=rotation*statemix*(rotation');\n",
    "list=sampling_sigma_z(statemixrot,1000);\n",
    "Plots.histogram(list)"
   ]
  },
  {
   "cell_type": "markdown",
   "metadata": {},
   "source": [
    "# Traza parcial\n",
    "\n",
    "La traza parcial se define como la operación que me lleva \n",
    "$$\n",
    "\\text{tr}_B\n",
    "|a_1 b_1\\rangle\\langle a_2 b_2|=\\langle b_2|b_1\\rangle |a_1 \\rangle\\langle a_2|,\n",
    "$$\n",
    "y se extiende a todo el espacio requiriendo linealidad. Note que es una operación que va de un espacio de Hilbert a otro. \n",
    "\n",
    "Al aplicarla a una matriz de densidad de un sistema bipartita, obtenemos\n",
    "$$\n",
    "\\text{tr}_B \\rho =\n",
    "\\text{tr}_B \\sum_{ijkl} \\rho_{ij,kl}|ij\\rangle\\langle kl|=\n",
    "\\sum_{ijkl} \\rho_{ij,kl} |i\\rangle\\langle k| \\delta_{jl}=\n",
    "\\sum_{ijk} \\rho_{ij,kj} |i\\rangle\\langle k|.\n",
    "$$\n",
    "\n",
    "\n",
    "La _matriz de densidad reducida_ se define como \n",
    "$$\n",
    "\\rho_A =\\text{tr}_B \\rho_{AB}.\n",
    "$$\n",
    "Este es el estado del sistema si ignoramos el resto. Para ver esto, tenemos que ver que _todos_ los observables en $A$ los podemos calcular usando solo $\\rho_A$, y da lo mismo que usando $\\rho_{AB}$. En particular, lo que queremos comprobar es que \n",
    "\\begin{equation}\n",
    "\\text{tr} M\\rho_A = \n",
    "\\text{tr} (M\\otimes 1) \\rho_{AB}.\n",
    "\\end{equation}\n",
    "\n",
    "Entonces, calculemos expresiones explícitas, suponiendo que \n",
    "$$\n",
    "M=\\sum_{ik} m_{ik}|i\\rangle\\langle k|.\n",
    "$$\n",
    "Vamos a tener entonces que\n",
    "$$\n",
    "M\\otimes 1 =\\sum_{ijk} m_{ik}|ij\\rangle\\langle kj|.\n",
    "$$\n",
    "\n",
    "Calculemos entonces:\n",
    "\\begin{align}\n",
    "\\text{tr} M\\rho_A &=\n",
    "\\text{tr} \\sum_{i'k'ijk} m_{i'k'}|i'\\rangle\\langle k'| \\rho_{ij,kj}|i\\rangle\\langle k|\\\\\n",
    "&=\\text{tr} \\sum_{ijk} m_{ki} \\rho_{ij,kj}\n",
    "\\end{align}\n",
    "mientras que \n",
    "\\begin{align}\n",
    "\\text{tr} (M\\otimes 1) \\rho_{AB} &=\n",
    "\\text{tr} \\sum_{ijki'j'k'l'} m_{ik} |ij\\rangle \\langle kj| \\rho_{i'j',k'l'}|i'j'\\rangle\\langle k'l'|\\\\\n",
    "&=\\sum_{ijk} m_{ik}\\rho_{kj,ij}.\n",
    "\\end{align}\n",
    "Esta simplificación es muy útil. Si no hemos platicado suficiente de ella, debemos detenernos acá.\n"
   ]
  },
  {
   "cell_type": "markdown",
   "metadata": {},
   "source": [
    "Ahora, sea $|\\psi\\rangle \\in \\mathcal{H}_A\\otimes\\mathcal{H}_B$ un estado puro definido en este espacio, queremos calcular el estado reducido para el subsistema $A$. Para este fin calculamos la _traza parcial_, que basicamente equivale a promediar los grados de libertad de el subsistema $B$ (algo parecido a una distribución marginal, sin olvidar que en mecánica cuántica tenemos el ingrediente extra: las coherencias, es decir, estas codifican el tipo de probabilidad a la que podemos llamar cuántica). \n",
    "\n",
    "* Comencemos con la traza parcial de estados puros:\n",
    "\n",
    "$\\rho_A=\\text{tr}_B \\rho_{\\psi}$, donde $\\rho_A$ es la matriz de densidad reducida para el subsistema $A$, es decir, es el estado cuántico del sistema $A$ y $\\rho_{\\psi}$ es el proyector del sistema total, es decir, su matriz de densidad, $\\rho_{\\psi}=|\\psi\\rangle\\langle\\psi|$. Tenemos entonces:\n",
    "\n",
    "$\\rho_A=\\text{tr}_B \\rho_{\\psi}=\\sum_{i} \\langle i_B | \\rho_{\\psi} | i_B \\rangle$, donde $|i_B\\rangle$, es una base arbitraria y ortonormal en el espacio $\\mathcal{H}_B$, es decir, no importa que base usamos, al igual que la traza total, pero esta vez solo usando elementos de la base de $B$, de ahi el nombre traza parcial.\n",
    "\n",
    "Podemos ver que que $\\rho_A=\\sum_{i} \\langle i_B | \\rho_{\\psi} | i_B \\rangle= \\sum_{i,i',k} c_{i j} c^{*}_{i'j} |i_A \\rangle \\langle i'_A|$, donde los $c_{ij}$ son las componentes del estado puro: $|\\psi\\rangle=\\sum_{ij}c_{ij}|i_Aj_B\\rangle$"
   ]
  },
  {
   "cell_type": "code",
   "execution_count": 14,
   "metadata": {
    "collapsed": false
   },
   "outputs": [
    {
     "data": {
      "text/plain": [
       "partial_trace_pure_bipartite_mat (generic function with 1 method)"
      ]
     },
     "execution_count": 14,
     "metadata": {},
     "output_type": "execute_result"
    }
   ],
   "source": [
    "# Vectorizado\n",
    "\"\"\"\n",
    "Traza parcial, dim es la dimensión del sistema A, y system es A:=1 y B:=2\n",
    "\"\"\"\n",
    "function partial_trace_pure_bipartite_mat(state,dim,system)\n",
    "    dimtotal=length(state)[1]\n",
    "    dimcomp=Int(dimtotal/dim)\n",
    "    psi=reshape(state,(dimcomp,dim))'\n",
    "    if system==1\n",
    "        psi=conj(psi)\n",
    "        return psi*psi'\n",
    "        elseif system==2\n",
    "        return psi'*psi\n",
    "    end\n",
    "end"
   ]
  },
  {
   "cell_type": "code",
   "execution_count": 41,
   "metadata": {
    "collapsed": false
   },
   "outputs": [],
   "source": [
    "state_A=random_state(2);\n",
    "state_B=random_state(4);\n",
    "stateAB=kron(state_A,state_B);"
   ]
  },
  {
   "cell_type": "code",
   "execution_count": 42,
   "metadata": {
    "collapsed": false
   },
   "outputs": [
    {
     "data": {
      "text/plain": [
       "2x2 Array{Complex{Float64},2}:\n",
       " 0.64503+0.0im       0.41018-0.246411im\n",
       " 0.41018+0.246411im  0.35497+0.0im     "
      ]
     },
     "execution_count": 42,
     "metadata": {},
     "output_type": "execute_result"
    }
   ],
   "source": [
    "partial_trace_pure_bipartite_mat(stateAB,2,1)"
   ]
  },
  {
   "cell_type": "code",
   "execution_count": 43,
   "metadata": {
    "collapsed": false
   },
   "outputs": [
    {
     "data": {
      "text/plain": [
       "2x2 Array{Complex{Float64},2}:\n",
       " 0.64503+0.0im       0.41018-0.246411im\n",
       " 0.41018+0.246411im  0.35497+0.0im     "
      ]
     },
     "execution_count": 43,
     "metadata": {},
     "output_type": "execute_result"
    }
   ],
   "source": [
    "projector(state_A)"
   ]
  },
  {
   "cell_type": "code",
   "execution_count": 26,
   "metadata": {
    "collapsed": false
   },
   "outputs": [
    {
     "name": "stdout",
     "output_type": "stream",
     "text": [
      "norm(partial_trace_pure_bipartite_mat(stateAB,2,2) - projector(state_B)) = 2.7730237405983213e-16\n"
     ]
    },
    {
     "data": {
      "text/plain": [
       "2.7730237405983213e-16"
      ]
     },
     "execution_count": 26,
     "metadata": {},
     "output_type": "execute_result"
    }
   ],
   "source": [
    "@show norm(partial_trace_pure_bipartite_mat(stateAB,2,2)-projector(state_B))"
   ]
  },
  {
   "cell_type": "markdown",
   "metadata": {},
   "source": [
    "# Tarea\n",
    "\n",
    "* Verificar que el estado de Bob antes de aprender los resultados de la medición de Alice, es equivalente a tener un estado $|0\\rangle$ o $|1\\rangle$ con igual probabilidad.\n",
    "* Hacer un script que verifique el la traza parcial de un estado aleatorio, tiene traza uno y es semipositiva. Ponerlo en forma de Travis CI. \n",
    "* Estudiar la distribución de la pureza, $P=\\text{tr} \\rho^2$, de un sistema como función de la dimension del sistema central y del ambiente. Presentarlo en dos gráficas. \n",
    "* Opcional: calcular la entropía de von Neumann vs la pureza para estados mixtos aleatorios."
   ]
  },
  {
   "cell_type": "markdown",
   "metadata": {},
   "source": [
    "# Por hacer para la siguiente iteracion\n",
    "\n",
    "* Ver como nos va de tiempo y pensar en presentar la entropia de von Neumann.\n",
    "* Poner las referencias de las figuras"
   ]
  }
 ],
 "metadata": {
  "kernelspec": {
   "display_name": "Julia 0.4.6",
   "language": "julia",
   "name": "julia-0.4"
  },
  "language_info": {
   "file_extension": ".jl",
   "mimetype": "application/julia",
   "name": "julia",
   "version": "0.4.6"
  }
 },
 "nbformat": 4,
 "nbformat_minor": 0
}
