{
 "cells": [
  {
   "cell_type": "code",
   "execution_count": null,
   "metadata": {
    "collapsed": true
   },
   "outputs": [],
   "source": [
    "using PyPlot"
   ]
  },
  {
   "cell_type": "code",
   "execution_count": null,
   "metadata": {
    "collapsed": false,
    "scrolled": true
   },
   "outputs": [],
   "source": [
    "push!(LOAD_PATH, \".\");\n",
    "using quantum\n",
    "names(quantum)"
   ]
  },
  {
   "cell_type": "code",
   "execution_count": 3,
   "metadata": {
    "collapsed": false
   },
   "outputs": [
    {
     "data": {
      "text/plain": [
       "2x2 Array{Float64,2}:\n",
       " 0.707107   0.707107\n",
       " 0.707107  -0.707107"
      ]
     },
     "execution_count": 3,
     "metadata": {},
     "output_type": "execute_result"
    }
   ],
   "source": [
    "hadamard = [1 1; 1 -1]/sqrt(2)"
   ]
  },
  {
   "cell_type": "code",
   "execution_count": 4,
   "metadata": {
    "collapsed": false
   },
   "outputs": [
    {
     "data": {
      "text/plain": [
       "concat_ancilla (generic function with 1 method)"
      ]
     },
     "execution_count": 4,
     "metadata": {},
     "output_type": "execute_result"
    }
   ],
   "source": [
    "function concat_ancilla(psi::Array{Complex{Float64},2}, n::Int64)\n",
    "    psi_anc = zeros(Complex{Float64}, 2^(n+1))\n",
    "    psi_anc[1:length(psi)] = psi\n",
    "    return psi_anc\n",
    "end"
   ]
  },
  {
   "cell_type": "code",
   "execution_count": 5,
   "metadata": {
    "collapsed": false
   },
   "outputs": [
    {
     "data": {
      "text/plain": [
       "apply_toffoli! (generic function with 1 method)"
      ]
     },
     "execution_count": 5,
     "metadata": {},
     "output_type": "execute_result"
    }
   ],
   "source": [
    "function apply_control_not!(psi::Array{Complex{Float64},1}, control_qubit::Int64, target_qubit::Int64)\n",
    "    psi_i_temp = copy(psi)\n",
    "    mov = max(control_qubit,target_qubit)\n",
    "    for i = 0:length(psi)-1\n",
    "        if testbit(i,control_qubit) & !testbit(i,target_qubit)\n",
    "            psi[i+1] = psi_i_temp[i+1+2^mov]\n",
    "        elseif testbit(i,control_qubit) & testbit(i,target_qubit)\n",
    "            psi[i+1] = psi_i_temp[i+1-2^mov]\n",
    "        end\n",
    "    end\n",
    "end\n",
    "\n",
    "function apply_toffoli!(psi::Array{Complex{Float64},1}, control_qubit1::Int64, control_qubit2::Int64, target_qubit::Int64)\n",
    "    psi_i_temp = copy(psi)\n",
    "    mov = target_qubit\n",
    "    for i = 0:length(psi)-1\n",
    "        if testbit(i,control_qubit1) & testbit(i,control_qubit2) & !testbit(i,target_qubit)\n",
    "            psi[i+1] = psi_i_temp[i+1+2^mov]\n",
    "        elseif testbit(i,control_qubit1) & testbit(i,control_qubit2) & testbit(i,target_qubit)\n",
    "            psi[i+1] = psi_i_temp[i+1-2^mov]\n",
    "        end\n",
    "    end\n",
    "end"
   ]
  },
  {
   "cell_type": "code",
   "execution_count": 6,
   "metadata": {
    "collapsed": false
   },
   "outputs": [
    {
     "data": {
      "text/plain": [
       "encoder (generic function with 1 method)"
      ]
     },
     "execution_count": 6,
     "metadata": {},
     "output_type": "execute_result"
    }
   ],
   "source": [
    "function encoder(psi::Array{Complex{Float64},2})\n",
    "    psi_encode = concat_ancilla(psi, 8)\n",
    "    \n",
    "    apply_control_not!(psi_encode, 0, 3)\n",
    "    apply_control_not!(psi_encode, 0, 6)\n",
    "    \n",
    "    for i in 0:2\n",
    "        apply_unitary!(psi_encode, hadamard, 3*i)\n",
    "    end\n",
    "        \n",
    "    for i in 0:2\n",
    "        apply_control_not!(psi_encode, 3*i, 3*i+1)\n",
    "    end\n",
    "    \n",
    "    for i in 0:2\n",
    "        apply_control_not!(psi_encode, 3*i, 3*i+2)\n",
    "    end\n",
    "    \n",
    "\n",
    "    return psi_encode\n",
    "end"
   ]
  },
  {
   "cell_type": "code",
   "execution_count": 7,
   "metadata": {
    "collapsed": false
   },
   "outputs": [
    {
     "data": {
      "text/plain": [
       "error_generator (generic function with 2 methods)"
      ]
     },
     "execution_count": 7,
     "metadata": {},
     "output_type": "execute_result"
    }
   ],
   "source": [
    "function error_generator(Err, psi::Array{Complex{Float64},1}, p::Float64)\n",
    "    n = Int(log2(length(psi)))\n",
    "    psi_err = copy(psi)\n",
    "    for i=0:n-1\n",
    "        if rand()< p\n",
    "            err = rand(Err)\n",
    "            apply_unitary!(psi_err, err, n-1-i)\n",
    "        end\n",
    "    end\n",
    "    return psi_err\n",
    "end\n",
    "\n",
    "function error_generator(Err, psi::Array{Complex{Float64},2}, p::Float64)\n",
    "    n = Int(log2(length(psi)))\n",
    "    psi_err = copy(psi)\n",
    "    for i=0:n-1\n",
    "        if rand()< p\n",
    "            err = rand(Err)\n",
    "            apply_unitary!(psi_err, err, n-1-i)\n",
    "        end\n",
    "    end\n",
    "    return psi_err\n",
    "end"
   ]
  },
  {
   "cell_type": "code",
   "execution_count": 8,
   "metadata": {
    "collapsed": false
   },
   "outputs": [],
   "source": [
    "stabilizerGroupeOp = Array[ sigma_z, sigma_z, sigma_z, sigma_z,\n",
    "                            sigma_z, sigma_z, sigma_x, sigma_x]\n",
    "stabilizerGroupeIdx = Array[[1 0],[2 1],[4 3],[5 4],[7 6],[8 7],[5 4 3 2 1 0],[8 7 6 5 4 3]]\n",
    "\n",
    "stabilizerCorrectionBitFlipEv = Array[\n",
    "    [-1; 1; 1; 1; 1; 1],\n",
    "    [-1; -1; 1; 1; 1; 1],\n",
    "    [1; -1; 1; 1; 1; 1],\n",
    "    [1; 1; -1; 1; 1; 1],\n",
    "    [1; 1; -1; -1; 1; 1],\n",
    "    [1; 1; 1; -1; 1; 1],\n",
    "    [1; 1; 1; 1; -1; 1],\n",
    "    [1; 1; 1; 1; -1; -1],\n",
    "    [1; 1; 1; 1; 1; -1]\n",
    "]\n",
    "stabilizerCorrectionBitFlipIdx = [0;1;2;3;4;5;6;7;8]\n",
    "\n",
    "stabilizerCorrectionPhaseFlipEv = Array[[-1;1], [-1;-1], [1;-1]]\n",
    "stabilizerCorrectionPhaseFlipIdx = Array[[0 1 2], [3 4 5], [6 7 8]];"
   ]
  },
  {
   "cell_type": "code",
   "execution_count": 9,
   "metadata": {
    "collapsed": false
   },
   "outputs": [
    {
     "data": {
      "text/plain": [
       "error_correction_mesurement (generic function with 1 method)"
      ]
     },
     "execution_count": 9,
     "metadata": {},
     "output_type": "execute_result"
    }
   ],
   "source": [
    "function error_correction_mesurement(psi::Array{Complex{Float64},1})\n",
    "    results = zeros(Int64,length(stabilizerGroupeIdx))\n",
    "    \n",
    "    for i in 1:8\n",
    "        psi_test = copy(psi)\n",
    "        for j in 1:length(stabilizerGroupeIdx[i])\n",
    "            apply_unitary!(psi_test, stabilizerGroupeOp[i], stabilizerGroupeIdx[i][j])\n",
    "        end\n",
    "        if psi_test == psi\n",
    "            results[i] = 1\n",
    "        elseif psi_test == -psi\n",
    "            results[i] = -1\n",
    "        end \n",
    "    end\n",
    "    \n",
    "    psi_corr = copy(psi)\n",
    "    for i in 1:9\n",
    "        if results[1:6] == stabilizerCorrectionBitFlipEv[i]\n",
    "            apply_unitary!(psi_corr, sigma_x, stabilizerCorrectionBitFlipIdx[i])\n",
    "        end\n",
    "    end\n",
    "    for i in 1:3\n",
    "        if results[7:8] == stabilizerCorrectionPhaseFlipEv[i]\n",
    "            for j in 1:3  \n",
    "                apply_unitary!(psi_corr, sigma_z, stabilizerCorrectionPhaseFlipIdx[i][j])\n",
    "            end\n",
    "        end\n",
    "    end\n",
    "    \n",
    "    for i in 0:2\n",
    "        apply_control_not!(psi_corr, 3*i, 3*i+1)\n",
    "    end\n",
    "    \n",
    "    for i in 0:2\n",
    "        apply_control_not!(psi_corr, 3*i, 3*i+2)\n",
    "    end\n",
    "    \n",
    "    for i in 0:2\n",
    "        apply_toffoli!(psi_corr, 3*i+2, 3*i+1, 3*i)\n",
    "    end\n",
    "    \n",
    "    for i in 0:2\n",
    "        apply_unitary!(psi_corr, hadamard, 3*i)\n",
    "    end\n",
    "    \n",
    "    apply_control_not!(psi_corr, 0, 6)\n",
    "    apply_control_not!(psi_corr, 0, 3)\n",
    "    apply_toffoli!(psi_corr, 6, 3, 0)\n",
    "    \n",
    "    return psi_corr\n",
    "end"
   ]
  },
  {
   "cell_type": "code",
   "execution_count": 10,
   "metadata": {
    "collapsed": false
   },
   "outputs": [
    {
     "name": "stdout",
     "output_type": "stream",
     "text": [
      "norm(psi_corr[1:2] - psi) = 5.4672143489065705e-16\n",
      "norm(psi_corr[1:2] - psi) = 6.425880329391634e-16\n",
      "norm(psi_corr[1:2] - psi) = 4.0221650305342743e-16\n",
      "norm(psi_corr[1:2] - psi) = 6.684427777288335e-16\n",
      "norm(psi_corr[1:2] - psi) = 4.1284960951691644e-16\n",
      "norm(psi_corr[1:2] - psi) = 6.48628858709965e-16\n",
      "norm(psi_corr[1:2] - psi) = 5.661048867003676e-16\n",
      "norm(psi_corr[1:2] - psi) = 6.304854800243424e-16\n",
      "norm(psi_corr[1:2] - psi) = 4.585973723508303e-16\n"
     ]
    }
   ],
   "source": [
    "for i in 0:8\n",
    "    psi = random_state(2)\n",
    "    psi_enc = encoder(psi)\n",
    "    apply_unitary!(psi_enc, sigma_z, i)\n",
    "    psi_corr = error_correction_mesurement(psi_enc)\n",
    "    \n",
    "    @show norm(psi_corr[1:2]-psi)\n",
    "end"
   ]
  },
  {
   "cell_type": "code",
   "execution_count": 16,
   "metadata": {
    "collapsed": false
   },
   "outputs": [
    {
     "name": "stdout",
     "output_type": "stream",
     "text": [
      "norm(psi_corr[1:2] - psi) = 4.46265832561482e-16\n",
      "norm(psi_corr[1:2] - psi) = 5.579044384146987e-16\n",
      "norm(psi_corr[1:2] - psi) = 6.080941944488118e-16\n",
      "norm(psi_corr[1:2] - psi) = 5.273559366969494e-16\n",
      "norm(psi_corr[1:2] - psi) = 5.73036696484635e-16\n",
      "norm(psi_corr[1:2] - psi) = 5.224024053540252e-16\n",
      "norm(psi_corr[1:2] - psi) = 4.918300529807393e-16\n",
      "norm(psi_corr[1:2] - psi) = 5.959374814064025e-16\n",
      "norm(psi_corr[1:2] - psi) = 5.20740757162067e-16\n"
     ]
    }
   ],
   "source": [
    "for i in 0:8\n",
    "    psi = random_state(2)\n",
    "    psi_enc = encoder(psi)\n",
    "    apply_unitary!(psi_enc, sigma_x, i)\n",
    "    psi_corr = error_correction_mesurement(psi_enc)\n",
    "    \n",
    "    @show norm(psi_corr[1:2]-psi)\n",
    "end"
   ]
  },
  {
   "cell_type": "code",
   "execution_count": 21,
   "metadata": {
    "collapsed": false
   },
   "outputs": [
    {
     "name": "stdout",
     "output_type": "stream",
     "text": [
      "norm(psi_corr[1:2] - psi) = 1.9999999999999996\n",
      "norm(psi_corr[1:2] - psi) = 1.9999999999999996\n",
      "norm(psi_corr[1:2] - psi) = 1.9999999999999991\n",
      "norm(psi_corr[1:2] - psi) = 1.9999999999999993\n",
      "norm(psi_corr[1:2] - psi) = 1.9999999999999993\n",
      "norm(psi_corr[1:2] - psi) = 1.9999999999999996\n",
      "norm(psi_corr[1:2] - psi) = 1.9999999999999996\n",
      "norm(psi_corr[1:2] - psi) = 1.9999999999999996\n",
      "norm(psi_corr[1:2] - psi) = 1.9999999999999996\n"
     ]
    }
   ],
   "source": [
    "for i in 0:8\n",
    "    psi = random_state(2)\n",
    "    psi_enc = encoder(psi)\n",
    "    apply_unitary!(psi_enc, sigma_x, i)\n",
    "    apply_unitary!(psi_enc, sigma_z, i)\n",
    "    psi_corr = error_correction_mesurement(psi_enc)\n",
    "    \n",
    "    @show norm(psi_corr[1:2]-psi)\n",
    "end"
   ]
  },
  {
   "cell_type": "code",
   "execution_count": 22,
   "metadata": {
    "collapsed": false
   },
   "outputs": [
    {
     "data": {
      "text/plain": [
       "count_coincidence_error_correction (generic function with 2 methods)"
      ]
     },
     "execution_count": 22,
     "metadata": {},
     "output_type": "execute_result"
    }
   ],
   "source": [
    "function count_coincidence_error_correction(p::Array{Float64,1}, case::AbstractString, N=10000)\n",
    "    coincidences = zeros(Float64, length(p))\n",
    "    n = 1\n",
    "    @sync @parallel for j in 1:length(p)\n",
    "        for i=1:N\n",
    "            psi = random_state(2)\n",
    "            if case == \"correction\"\n",
    "                psi_enc = encoder(psi)\n",
    "                psi_enc_err = error_generator(Array[sigma_x], psi_enc, p[j])\n",
    "                psi_enc_err_err = error_generator(Array[sigma_z], psi_enc_err, p[j])\n",
    "                psi_enc_corrected = error_correction_mesurement(psi_enc_err_err)\n",
    "                \n",
    "                if norm(psi - psi_enc_corrected[1:2]) < 1e-6\n",
    "                    coincidences[j] += 1.\n",
    "                elseif norm(psi - psi_enc_corrected[1:2] - 2) < 1e-6\n",
    "                    coincidences[j] += 1.\n",
    "                end\n",
    "            elseif case == \"no_encoded\"\n",
    "                psi_err = error_generator(Array[sigma_x], psi, p[j])\n",
    "                psi_enc_err = error_generator(Array[sigma_z], psi_err, p[j])\n",
    "                if psi == psi_enc_err\n",
    "                    coincidences[j] += 1.\n",
    "                end\n",
    "            end\n",
    "        end\n",
    "    end\n",
    "    return coincidences/N\n",
    "end"
   ]
  },
  {
   "cell_type": "code",
   "execution_count": 25,
   "metadata": {
    "collapsed": false
   },
   "outputs": [],
   "source": [
    "p = collect(0:0.01:1);\n",
    "coincidencias_qec = count_coincidence_error_correction(p, \"correction\", 5000);\n",
    "coincidencias_e = count_coincidence_error_correction(p, \"no_encoded\", 10000);"
   ]
  },
  {
   "cell_type": "code",
   "execution_count": 26,
   "metadata": {
    "collapsed": false
   },
   "outputs": [
    {
     "data": {
      "image/png": "[encoded data removed]",
      "text/plain": [
       "PyPlot.Figure(PyObject <matplotlib.figure.Figure object at 0x30da96f10>)"
      ]
     },
     "metadata": {},
     "output_type": "display_data"
    }
   ],
   "source": [
    "scatter(p, coincidencias_qec, c = \"red\")\n",
    "scatter(p, coincidencias_e, c = \"blue\")\n",
    "xlim([0,1]); ylim([0,1]);"
   ]
  },
  {
   "cell_type": "code",
   "execution_count": 27,
   "metadata": {
    "collapsed": true
   },
   "outputs": [],
   "source": [
    "p2 = 0.1*collect(0:0.01:1);\n",
    "coincidencias_qec = count_coincidence_error_correction(p2, \"correction\", 5000);\n",
    "coincidencias_e = count_coincidence_error_correction(p2, \"no_encoded\", 10000);"
   ]
  },
  {
   "cell_type": "code",
   "execution_count": 30,
   "metadata": {
    "collapsed": false
   },
   "outputs": [
    {
     "data": {
      "image/png": "[encoded data removed]",
      "text/plain": [
       "PyPlot.Figure(PyObject <matplotlib.figure.Figure object at 0x31c12db90>)"
      ]
     },
     "metadata": {},
     "output_type": "display_data"
    }
   ],
   "source": [
    "scatter(p2, coincidencias_qec, c = \"red\")\n",
    "scatter(p2, coincidencias_e, c = \"blue\")\n",
    "xlim([0,0.1]);"
   ]
  },
  {
   "cell_type": "code",
   "execution_count": null,
   "metadata": {
    "collapsed": true
   },
   "outputs": [],
   "source": []
  }
 ],
 "metadata": {
  "kernelspec": {
   "display_name": "Julia 0.4.6",
   "language": "julia",
   "name": "julia-0.4"
  },
  "language_info": {
   "file_extension": ".jl",
   "mimetype": "application/julia",
   "name": "julia",
   "version": "0.4.6"
  }
 },
 "nbformat": 4,
 "nbformat_minor": 0
}
